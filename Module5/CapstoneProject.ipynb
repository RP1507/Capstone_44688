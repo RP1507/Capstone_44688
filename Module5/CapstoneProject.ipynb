{
 "cells": [
  {
   "cell_type": "markdown",
   "id": "07055a49-ca57-43e7-bcbf-f340f3f8f400",
   "metadata": {},
   "source": [
    "### Read the CSV file:\n",
    "We will be importing the StudentData.csv file to analyze further. \n"
   ]
  },
  {
   "cell_type": "code",
   "execution_count": 1,
   "id": "d4725a40-cf74-4104-8e70-659e5bccabff",
   "metadata": {
    "tags": []
   },
   "outputs": [],
   "source": [
    "# read in the .csv file of student data\n",
    "\n",
    "import pandas as pd\n",
    "import numpy as np\n",
    "from scipy import stats\n",
    "import seaborn as sns\n",
    "%matplotlib inline\n",
    "import matplotlib.pyplot as plt\n",
    "student_data = pd.read_csv(\"StudentData.csv\")"
   ]
  },
  {
   "cell_type": "code",
   "execution_count": 2,
   "id": "1fa38ffc-9457-4e0f-a181-f37e11bbc3c7",
   "metadata": {},
   "outputs": [
    {
     "name": "stdout",
     "output_type": "stream",
     "text": [
      "      ID_NUM  Gender  Resident  ACT_SCORE  ACT_RECEIVED  HS_GPA  Athlete  \\\n",
      "0          1       1         1       22.0             1    3.21        0   \n",
      "1          2       1         1       22.0             1    3.66        1   \n",
      "2          3       0         1        NaN             0    2.88        0   \n",
      "3          4       1         1       30.0             1    3.73        1   \n",
      "4          5       1         1        NaN             0    3.92        1   \n",
      "...      ...     ...       ...        ...           ...     ...      ...   \n",
      "5058    5059       0         1        NaN             0     NaN        0   \n",
      "5059    5060       1         0        NaN             0     NaN        0   \n",
      "5060    5061       1         0       17.0             1     NaN        0   \n",
      "5061    5062       0         1       18.0             1     NaN        1   \n",
      "5062    5063       1         0        NaN             0     NaN        0   \n",
      "\n",
      "      Retained  \n",
      "0            0  \n",
      "1            1  \n",
      "2            1  \n",
      "3            1  \n",
      "4            1  \n",
      "...        ...  \n",
      "5058         0  \n",
      "5059         1  \n",
      "5060         1  \n",
      "5061         1  \n",
      "5062         0  \n",
      "\n",
      "[5063 rows x 8 columns]\n"
     ]
    }
   ],
   "source": [
    "print(student_data)"
   ]
  },
  {
   "cell_type": "code",
   "execution_count": 3,
   "id": "429bde75-1ba5-4452-83b7-c229e3a7699e",
   "metadata": {},
   "outputs": [
    {
     "data": {
      "text/plain": [
       "Index(['ID_NUM', 'Gender', 'Resident', 'ACT_SCORE', 'ACT_RECEIVED', 'HS_GPA',\n",
       "       'Athlete', 'Retained'],\n",
       "      dtype='object')"
      ]
     },
     "execution_count": 3,
     "metadata": {},
     "output_type": "execute_result"
    }
   ],
   "source": [
    "student_data.columns"
   ]
  },
  {
   "cell_type": "code",
   "execution_count": 4,
   "id": "52c3a173-ec0f-4d06-a41a-b958ab45ee70",
   "metadata": {},
   "outputs": [
    {
     "data": {
      "text/html": [
       "<div>\n",
       "<style scoped>\n",
       "    .dataframe tbody tr th:only-of-type {\n",
       "        vertical-align: middle;\n",
       "    }\n",
       "\n",
       "    .dataframe tbody tr th {\n",
       "        vertical-align: top;\n",
       "    }\n",
       "\n",
       "    .dataframe thead th {\n",
       "        text-align: right;\n",
       "    }\n",
       "</style>\n",
       "<table border=\"1\" class=\"dataframe\">\n",
       "  <thead>\n",
       "    <tr style=\"text-align: right;\">\n",
       "      <th></th>\n",
       "      <th>ID_NUM</th>\n",
       "      <th>Gender</th>\n",
       "      <th>Resident</th>\n",
       "      <th>ACT_SCORE</th>\n",
       "      <th>ACT_RECEIVED</th>\n",
       "      <th>HS_GPA</th>\n",
       "      <th>Athlete</th>\n",
       "      <th>Retained</th>\n",
       "    </tr>\n",
       "  </thead>\n",
       "  <tbody>\n",
       "    <tr>\n",
       "      <th>count</th>\n",
       "      <td>5063.000000</td>\n",
       "      <td>5063.000000</td>\n",
       "      <td>5063.000000</td>\n",
       "      <td>4189.000000</td>\n",
       "      <td>5063.000000</td>\n",
       "      <td>3997.000000</td>\n",
       "      <td>5063.000000</td>\n",
       "      <td>5063.000000</td>\n",
       "    </tr>\n",
       "    <tr>\n",
       "      <th>mean</th>\n",
       "      <td>2532.000000</td>\n",
       "      <td>0.458424</td>\n",
       "      <td>0.950622</td>\n",
       "      <td>23.889472</td>\n",
       "      <td>0.827375</td>\n",
       "      <td>2.978556</td>\n",
       "      <td>0.426230</td>\n",
       "      <td>0.639542</td>\n",
       "    </tr>\n",
       "    <tr>\n",
       "      <th>std</th>\n",
       "      <td>1461.706537</td>\n",
       "      <td>0.498318</td>\n",
       "      <td>0.216677</td>\n",
       "      <td>4.022140</td>\n",
       "      <td>0.377960</td>\n",
       "      <td>1.287854</td>\n",
       "      <td>0.494577</td>\n",
       "      <td>0.480181</td>\n",
       "    </tr>\n",
       "    <tr>\n",
       "      <th>min</th>\n",
       "      <td>1.000000</td>\n",
       "      <td>0.000000</td>\n",
       "      <td>0.000000</td>\n",
       "      <td>11.000000</td>\n",
       "      <td>0.000000</td>\n",
       "      <td>0.000000</td>\n",
       "      <td>0.000000</td>\n",
       "      <td>0.000000</td>\n",
       "    </tr>\n",
       "    <tr>\n",
       "      <th>25%</th>\n",
       "      <td>1266.500000</td>\n",
       "      <td>0.000000</td>\n",
       "      <td>1.000000</td>\n",
       "      <td>21.000000</td>\n",
       "      <td>1.000000</td>\n",
       "      <td>2.840000</td>\n",
       "      <td>0.000000</td>\n",
       "      <td>0.000000</td>\n",
       "    </tr>\n",
       "    <tr>\n",
       "      <th>50%</th>\n",
       "      <td>2532.000000</td>\n",
       "      <td>0.000000</td>\n",
       "      <td>1.000000</td>\n",
       "      <td>24.000000</td>\n",
       "      <td>1.000000</td>\n",
       "      <td>3.410000</td>\n",
       "      <td>0.000000</td>\n",
       "      <td>1.000000</td>\n",
       "    </tr>\n",
       "    <tr>\n",
       "      <th>75%</th>\n",
       "      <td>3797.500000</td>\n",
       "      <td>1.000000</td>\n",
       "      <td>1.000000</td>\n",
       "      <td>27.000000</td>\n",
       "      <td>1.000000</td>\n",
       "      <td>3.800000</td>\n",
       "      <td>1.000000</td>\n",
       "      <td>1.000000</td>\n",
       "    </tr>\n",
       "    <tr>\n",
       "      <th>max</th>\n",
       "      <td>5063.000000</td>\n",
       "      <td>1.000000</td>\n",
       "      <td>1.000000</td>\n",
       "      <td>35.000000</td>\n",
       "      <td>1.000000</td>\n",
       "      <td>5.140000</td>\n",
       "      <td>1.000000</td>\n",
       "      <td>1.000000</td>\n",
       "    </tr>\n",
       "  </tbody>\n",
       "</table>\n",
       "</div>"
      ],
      "text/plain": [
       "            ID_NUM       Gender     Resident    ACT_SCORE  ACT_RECEIVED  \\\n",
       "count  5063.000000  5063.000000  5063.000000  4189.000000   5063.000000   \n",
       "mean   2532.000000     0.458424     0.950622    23.889472      0.827375   \n",
       "std    1461.706537     0.498318     0.216677     4.022140      0.377960   \n",
       "min       1.000000     0.000000     0.000000    11.000000      0.000000   \n",
       "25%    1266.500000     0.000000     1.000000    21.000000      1.000000   \n",
       "50%    2532.000000     0.000000     1.000000    24.000000      1.000000   \n",
       "75%    3797.500000     1.000000     1.000000    27.000000      1.000000   \n",
       "max    5063.000000     1.000000     1.000000    35.000000      1.000000   \n",
       "\n",
       "            HS_GPA      Athlete     Retained  \n",
       "count  3997.000000  5063.000000  5063.000000  \n",
       "mean      2.978556     0.426230     0.639542  \n",
       "std       1.287854     0.494577     0.480181  \n",
       "min       0.000000     0.000000     0.000000  \n",
       "25%       2.840000     0.000000     0.000000  \n",
       "50%       3.410000     0.000000     1.000000  \n",
       "75%       3.800000     1.000000     1.000000  \n",
       "max       5.140000     1.000000     1.000000  "
      ]
     },
     "execution_count": 4,
     "metadata": {},
     "output_type": "execute_result"
    }
   ],
   "source": [
    "student_data.describe()"
   ]
  },
  {
   "cell_type": "code",
   "execution_count": 5,
   "id": "fb25464a-0988-4ebe-8a4b-8d86d4a8a534",
   "metadata": {},
   "outputs": [
    {
     "name": "stdout",
     "output_type": "stream",
     "text": [
      "      ID_NUM  Gender  Resident  ACT_SCORE  ACT_RECEIVED  HS_GPA  Athlete  \\\n",
      "0          1       1         1       22.0             1    3.21        0   \n",
      "1          2       1         1       22.0             1    3.66        1   \n",
      "2          3       0         1        NaN             0    2.88        0   \n",
      "3          4       1         1       30.0             1    3.73        1   \n",
      "4          5       1         1        NaN             0    3.92        1   \n",
      "...      ...     ...       ...        ...           ...     ...      ...   \n",
      "5058    5059       0         1        NaN             0     NaN        0   \n",
      "5059    5060       1         0        NaN             0     NaN        0   \n",
      "5060    5061       1         0       17.0             1     NaN        0   \n",
      "5061    5062       0         1       18.0             1     NaN        1   \n",
      "5062    5063       1         0        NaN             0     NaN        0   \n",
      "\n",
      "      Retained  \n",
      "0            0  \n",
      "1            1  \n",
      "2            1  \n",
      "3            1  \n",
      "4            1  \n",
      "...        ...  \n",
      "5058         0  \n",
      "5059         1  \n",
      "5060         1  \n",
      "5061         1  \n",
      "5062         0  \n",
      "\n",
      "[5063 rows x 8 columns]\n"
     ]
    }
   ],
   "source": [
    "# remove duplicates\n",
    "\n",
    "student_data.drop_duplicates(inplace = True)\n",
    "\n",
    "print(student_data)"
   ]
  },
  {
   "cell_type": "code",
   "execution_count": 6,
   "id": "f717a1a0-de71-4f67-b47b-2ab09aa10e9c",
   "metadata": {},
   "outputs": [
    {
     "data": {
      "text/html": [
       "<div>\n",
       "<style scoped>\n",
       "    .dataframe tbody tr th:only-of-type {\n",
       "        vertical-align: middle;\n",
       "    }\n",
       "\n",
       "    .dataframe tbody tr th {\n",
       "        vertical-align: top;\n",
       "    }\n",
       "\n",
       "    .dataframe thead th {\n",
       "        text-align: right;\n",
       "    }\n",
       "</style>\n",
       "<table border=\"1\" class=\"dataframe\">\n",
       "  <thead>\n",
       "    <tr style=\"text-align: right;\">\n",
       "      <th></th>\n",
       "      <th>ID_NUM</th>\n",
       "      <th>Gender</th>\n",
       "      <th>Resident</th>\n",
       "      <th>ACT_SCORE</th>\n",
       "      <th>ACT_RECEIVED</th>\n",
       "      <th>HS_GPA</th>\n",
       "      <th>Athlete</th>\n",
       "      <th>Retained</th>\n",
       "    </tr>\n",
       "  </thead>\n",
       "  <tbody>\n",
       "    <tr>\n",
       "      <th>0</th>\n",
       "      <td>False</td>\n",
       "      <td>False</td>\n",
       "      <td>False</td>\n",
       "      <td>False</td>\n",
       "      <td>False</td>\n",
       "      <td>False</td>\n",
       "      <td>False</td>\n",
       "      <td>False</td>\n",
       "    </tr>\n",
       "    <tr>\n",
       "      <th>1</th>\n",
       "      <td>False</td>\n",
       "      <td>False</td>\n",
       "      <td>False</td>\n",
       "      <td>False</td>\n",
       "      <td>False</td>\n",
       "      <td>False</td>\n",
       "      <td>False</td>\n",
       "      <td>False</td>\n",
       "    </tr>\n",
       "    <tr>\n",
       "      <th>2</th>\n",
       "      <td>False</td>\n",
       "      <td>False</td>\n",
       "      <td>False</td>\n",
       "      <td>True</td>\n",
       "      <td>False</td>\n",
       "      <td>False</td>\n",
       "      <td>False</td>\n",
       "      <td>False</td>\n",
       "    </tr>\n",
       "    <tr>\n",
       "      <th>3</th>\n",
       "      <td>False</td>\n",
       "      <td>False</td>\n",
       "      <td>False</td>\n",
       "      <td>False</td>\n",
       "      <td>False</td>\n",
       "      <td>False</td>\n",
       "      <td>False</td>\n",
       "      <td>False</td>\n",
       "    </tr>\n",
       "    <tr>\n",
       "      <th>4</th>\n",
       "      <td>False</td>\n",
       "      <td>False</td>\n",
       "      <td>False</td>\n",
       "      <td>True</td>\n",
       "      <td>False</td>\n",
       "      <td>False</td>\n",
       "      <td>False</td>\n",
       "      <td>False</td>\n",
       "    </tr>\n",
       "    <tr>\n",
       "      <th>...</th>\n",
       "      <td>...</td>\n",
       "      <td>...</td>\n",
       "      <td>...</td>\n",
       "      <td>...</td>\n",
       "      <td>...</td>\n",
       "      <td>...</td>\n",
       "      <td>...</td>\n",
       "      <td>...</td>\n",
       "    </tr>\n",
       "    <tr>\n",
       "      <th>5058</th>\n",
       "      <td>False</td>\n",
       "      <td>False</td>\n",
       "      <td>False</td>\n",
       "      <td>True</td>\n",
       "      <td>False</td>\n",
       "      <td>True</td>\n",
       "      <td>False</td>\n",
       "      <td>False</td>\n",
       "    </tr>\n",
       "    <tr>\n",
       "      <th>5059</th>\n",
       "      <td>False</td>\n",
       "      <td>False</td>\n",
       "      <td>False</td>\n",
       "      <td>True</td>\n",
       "      <td>False</td>\n",
       "      <td>True</td>\n",
       "      <td>False</td>\n",
       "      <td>False</td>\n",
       "    </tr>\n",
       "    <tr>\n",
       "      <th>5060</th>\n",
       "      <td>False</td>\n",
       "      <td>False</td>\n",
       "      <td>False</td>\n",
       "      <td>False</td>\n",
       "      <td>False</td>\n",
       "      <td>True</td>\n",
       "      <td>False</td>\n",
       "      <td>False</td>\n",
       "    </tr>\n",
       "    <tr>\n",
       "      <th>5061</th>\n",
       "      <td>False</td>\n",
       "      <td>False</td>\n",
       "      <td>False</td>\n",
       "      <td>False</td>\n",
       "      <td>False</td>\n",
       "      <td>True</td>\n",
       "      <td>False</td>\n",
       "      <td>False</td>\n",
       "    </tr>\n",
       "    <tr>\n",
       "      <th>5062</th>\n",
       "      <td>False</td>\n",
       "      <td>False</td>\n",
       "      <td>False</td>\n",
       "      <td>True</td>\n",
       "      <td>False</td>\n",
       "      <td>True</td>\n",
       "      <td>False</td>\n",
       "      <td>False</td>\n",
       "    </tr>\n",
       "  </tbody>\n",
       "</table>\n",
       "<p>5063 rows × 8 columns</p>\n",
       "</div>"
      ],
      "text/plain": [
       "      ID_NUM  Gender  Resident  ACT_SCORE  ACT_RECEIVED  HS_GPA  Athlete  \\\n",
       "0      False   False     False      False         False   False    False   \n",
       "1      False   False     False      False         False   False    False   \n",
       "2      False   False     False       True         False   False    False   \n",
       "3      False   False     False      False         False   False    False   \n",
       "4      False   False     False       True         False   False    False   \n",
       "...      ...     ...       ...        ...           ...     ...      ...   \n",
       "5058   False   False     False       True         False    True    False   \n",
       "5059   False   False     False       True         False    True    False   \n",
       "5060   False   False     False      False         False    True    False   \n",
       "5061   False   False     False      False         False    True    False   \n",
       "5062   False   False     False       True         False    True    False   \n",
       "\n",
       "      Retained  \n",
       "0        False  \n",
       "1        False  \n",
       "2        False  \n",
       "3        False  \n",
       "4        False  \n",
       "...        ...  \n",
       "5058     False  \n",
       "5059     False  \n",
       "5060     False  \n",
       "5061     False  \n",
       "5062     False  \n",
       "\n",
       "[5063 rows x 8 columns]"
      ]
     },
     "execution_count": 6,
     "metadata": {},
     "output_type": "execute_result"
    }
   ],
   "source": [
    "#check for null values and the percent that are null in each column\n",
    "\n",
    "student_data.isnull()"
   ]
  },
  {
   "cell_type": "code",
   "execution_count": 7,
   "id": "2e2cd24d-438c-4b47-b576-fa367949d826",
   "metadata": {},
   "outputs": [
    {
     "data": {
      "text/plain": [
       "ID_NUM          False\n",
       "Gender          False\n",
       "Resident        False\n",
       "ACT_SCORE        True\n",
       "ACT_RECEIVED    False\n",
       "HS_GPA           True\n",
       "Athlete         False\n",
       "Retained        False\n",
       "dtype: bool"
      ]
     },
     "execution_count": 7,
     "metadata": {},
     "output_type": "execute_result"
    }
   ],
   "source": [
    "student_data.isnull().any()"
   ]
  },
  {
   "cell_type": "code",
   "execution_count": 8,
   "id": "e549a6c0-2ca9-4b76-af91-fb8f9f124386",
   "metadata": {},
   "outputs": [
    {
     "data": {
      "text/plain": [
       "ID_NUM          0.000000\n",
       "Gender          0.000000\n",
       "Resident        0.000000\n",
       "ACT_SCORE       0.172625\n",
       "ACT_RECEIVED    0.000000\n",
       "HS_GPA          0.210547\n",
       "Athlete         0.000000\n",
       "Retained        0.000000\n",
       "dtype: float64"
      ]
     },
     "execution_count": 8,
     "metadata": {},
     "output_type": "execute_result"
    }
   ],
   "source": [
    "student_data.isnull().sum()/student_data.shape[0]"
   ]
  },
  {
   "cell_type": "code",
   "execution_count": 9,
   "id": "2bc3204f-242b-4272-9872-86ca8eca8e2b",
   "metadata": {},
   "outputs": [
    {
     "name": "stdout",
     "output_type": "stream",
     "text": [
      "ACT Score Average is: 23.889472427787062\n",
      "High School GPA Average is: 2.978555666750063\n"
     ]
    }
   ],
   "source": [
    "#See what the average is for ACT Scores and High school GPAs that will be used to replace the Null values\n",
    "print (\"ACT Score Average is:\", student_data.ACT_SCORE.mean())\n",
    "print (\"High School GPA Average is:\", student_data.HS_GPA.mean())\n"
   ]
  },
  {
   "cell_type": "code",
   "execution_count": 10,
   "id": "2b8ef52c-da51-43b5-abe7-76c171ae9d77",
   "metadata": {},
   "outputs": [],
   "source": [
    "#Find any null values in the ACT Score column and the HS GPA Column and replace with the average\n",
    "\n",
    "student_data.ACT_SCORE.fillna(student_data.ACT_SCORE.mean(),inplace = True)\n",
    "student_data.HS_GPA.fillna(student_data.HS_GPA.mean(),inplace = True)"
   ]
  },
  {
   "cell_type": "code",
   "execution_count": 11,
   "id": "45ef3427-837c-40f6-8cb0-570d47aa6f66",
   "metadata": {},
   "outputs": [
    {
     "name": "stdout",
     "output_type": "stream",
     "text": [
      "      ID_NUM  Gender  Resident  ACT_SCORE  ACT_RECEIVED    HS_GPA  Athlete  \\\n",
      "0          1       1         1  22.000000             1  3.210000        0   \n",
      "1          2       1         1  22.000000             1  3.660000        1   \n",
      "2          3       0         1  23.889472             0  2.880000        0   \n",
      "3          4       1         1  30.000000             1  3.730000        1   \n",
      "4          5       1         1  23.889472             0  3.920000        1   \n",
      "...      ...     ...       ...        ...           ...       ...      ...   \n",
      "5058    5059       0         1  23.889472             0  2.978556        0   \n",
      "5059    5060       1         0  23.889472             0  2.978556        0   \n",
      "5060    5061       1         0  17.000000             1  2.978556        0   \n",
      "5061    5062       0         1  18.000000             1  2.978556        1   \n",
      "5062    5063       1         0  23.889472             0  2.978556        0   \n",
      "\n",
      "      Retained  \n",
      "0            0  \n",
      "1            1  \n",
      "2            1  \n",
      "3            1  \n",
      "4            1  \n",
      "...        ...  \n",
      "5058         0  \n",
      "5059         1  \n",
      "5060         1  \n",
      "5061         1  \n",
      "5062         0  \n",
      "\n",
      "[5063 rows x 8 columns]\n"
     ]
    }
   ],
   "source": [
    "#New data frame with the null values filled in by average for ACT and HS GPA\n",
    "print(student_data)"
   ]
  },
  {
   "cell_type": "code",
   "execution_count": 12,
   "id": "3656de49-5816-4c2f-aa21-5bc00415a748",
   "metadata": {},
   "outputs": [],
   "source": [
    "#After initial inspection of box plots, can see values of 0 that may have been mis entered. Treating them like nulls and replacing 0 values with the average of the column\n",
    "\n",
    "mean = student_data['HS_GPA'].mean()\n",
    "student_data.loc[student_data['HS_GPA'] == 0, 'HS_GPA'] = mean"
   ]
  },
  {
   "cell_type": "code",
   "execution_count": 13,
   "id": "79892287-7485-4b84-893d-087c7f8ca380",
   "metadata": {},
   "outputs": [
    {
     "data": {
      "text/plain": [
       "0    22.000000\n",
       "1    22.000000\n",
       "2    23.889472\n",
       "3    30.000000\n",
       "4    23.889472\n",
       "Name: ACT_SCORE, dtype: float64"
      ]
     },
     "execution_count": 13,
     "metadata": {},
     "output_type": "execute_result"
    }
   ],
   "source": [
    "student_data.ACT_SCORE.head()"
   ]
  },
  {
   "cell_type": "code",
   "execution_count": 14,
   "id": "27b760a4-889c-49b7-b799-4c7203bed729",
   "metadata": {},
   "outputs": [
    {
     "data": {
      "text/plain": [
       "0    3.21\n",
       "1    3.66\n",
       "2    2.88\n",
       "3    3.73\n",
       "4    3.92\n",
       "Name: HS_GPA, dtype: float64"
      ]
     },
     "execution_count": 14,
     "metadata": {},
     "output_type": "execute_result"
    }
   ],
   "source": [
    "student_data.HS_GPA.head()"
   ]
  },
  {
   "cell_type": "code",
   "execution_count": 15,
   "id": "f8f684d2-f7fe-4427-a9b6-26ddcc6f52da",
   "metadata": {},
   "outputs": [
    {
     "data": {
      "text/plain": [
       "0    1\n",
       "1    1\n",
       "2    1\n",
       "3    1\n",
       "4    1\n",
       "Name: Resident, dtype: int64"
      ]
     },
     "execution_count": 15,
     "metadata": {},
     "output_type": "execute_result"
    }
   ],
   "source": [
    "student_data.Resident.head()"
   ]
  },
  {
   "cell_type": "code",
   "execution_count": 16,
   "id": "664d0c27-8143-44d5-9aac-e93e78276300",
   "metadata": {},
   "outputs": [
    {
     "data": {
      "text/plain": [
       "<AxesSubplot:>"
      ]
     },
     "execution_count": 16,
     "metadata": {},
     "output_type": "execute_result"
    },
    {
     "data": {
      "image/png": "[encoded data removed]",
      "text/plain": [
       "<Figure size 640x480 with 1 Axes>"
      ]
     },
     "metadata": {},
     "output_type": "display_data"
    }
   ],
   "source": [
    "student_data.boxplot('ACT_SCORE')"
   ]
  },
  {
   "cell_type": "code",
   "execution_count": 17,
   "id": "f9f22f8f-8b7b-4301-890c-322ac4a18893",
   "metadata": {},
   "outputs": [
    {
     "data": {
      "text/plain": [
       "array([[<AxesSubplot:title={'center':'ACT_SCORE'}>]], dtype=object)"
      ]
     },
     "execution_count": 17,
     "metadata": {},
     "output_type": "execute_result"
    },
    {
     "data": {
      "image/png": "[encoded data removed]",
      "text/plain": [
       "<Figure size 640x480 with 1 Axes>"
      ]
     },
     "metadata": {},
     "output_type": "display_data"
    }
   ],
   "source": [
    "student_data.hist('ACT_SCORE')"
   ]
  },
  {
   "cell_type": "code",
   "execution_count": 18,
   "id": "4a7c40dd-23af-4b48-b97d-6d7fc3f3fab6",
   "metadata": {},
   "outputs": [
    {
     "data": {
      "text/plain": [
       "<AxesSubplot:>"
      ]
     },
     "execution_count": 18,
     "metadata": {},
     "output_type": "execute_result"
    },
    {
     "data": {
      "image/png": "[encoded data removed]",
      "text/plain": [
       "<Figure size 640x480 with 1 Axes>"
      ]
     },
     "metadata": {},
     "output_type": "display_data"
    }
   ],
   "source": [
    "student_data.boxplot('HS_GPA')"
   ]
  },
  {
   "cell_type": "code",
   "execution_count": 19,
   "id": "39837c3d-b1a9-4c17-a9e9-33bb18a20b77",
   "metadata": {},
   "outputs": [
    {
     "data": {
      "text/plain": [
       "array([[<AxesSubplot:title={'center':'HS_GPA'}>]], dtype=object)"
      ]
     },
     "execution_count": 19,
     "metadata": {},
     "output_type": "execute_result"
    },
    {
     "data": {
      "image/png": "[encoded data removed]",
      "text/plain": [
       "<Figure size 640x480 with 1 Axes>"
      ]
     },
     "metadata": {},
     "output_type": "display_data"
    }
   ],
   "source": [
    "student_data.hist('HS_GPA')"
   ]
  },
  {
   "cell_type": "code",
   "execution_count": 20,
   "id": "703ad919-0699-415b-9a0a-2fb78d78861c",
   "metadata": {},
   "outputs": [
    {
     "data": {
      "text/html": [
       "<div>\n",
       "<style scoped>\n",
       "    .dataframe tbody tr th:only-of-type {\n",
       "        vertical-align: middle;\n",
       "    }\n",
       "\n",
       "    .dataframe tbody tr th {\n",
       "        vertical-align: top;\n",
       "    }\n",
       "\n",
       "    .dataframe thead th {\n",
       "        text-align: right;\n",
       "    }\n",
       "</style>\n",
       "<table border=\"1\" class=\"dataframe\">\n",
       "  <thead>\n",
       "    <tr style=\"text-align: right;\">\n",
       "      <th></th>\n",
       "      <th>ACT_SCORE</th>\n",
       "      <th>HS_GPA</th>\n",
       "      <th>Gender</th>\n",
       "      <th>Resident</th>\n",
       "      <th>Athlete</th>\n",
       "      <th>Retained</th>\n",
       "    </tr>\n",
       "  </thead>\n",
       "  <tbody>\n",
       "    <tr>\n",
       "      <th>ACT_SCORE</th>\n",
       "      <td>1.000000</td>\n",
       "      <td>0.472962</td>\n",
       "      <td>0.051939</td>\n",
       "      <td>0.106525</td>\n",
       "      <td>-0.142253</td>\n",
       "      <td>0.182637</td>\n",
       "    </tr>\n",
       "    <tr>\n",
       "      <th>HS_GPA</th>\n",
       "      <td>0.472962</td>\n",
       "      <td>1.000000</td>\n",
       "      <td>0.202624</td>\n",
       "      <td>0.083394</td>\n",
       "      <td>-0.017869</td>\n",
       "      <td>0.219257</td>\n",
       "    </tr>\n",
       "    <tr>\n",
       "      <th>Gender</th>\n",
       "      <td>0.051939</td>\n",
       "      <td>0.202624</td>\n",
       "      <td>1.000000</td>\n",
       "      <td>-0.008039</td>\n",
       "      <td>-0.209431</td>\n",
       "      <td>0.064911</td>\n",
       "    </tr>\n",
       "    <tr>\n",
       "      <th>Resident</th>\n",
       "      <td>0.106525</td>\n",
       "      <td>0.083394</td>\n",
       "      <td>-0.008039</td>\n",
       "      <td>1.000000</td>\n",
       "      <td>0.052644</td>\n",
       "      <td>0.109908</td>\n",
       "    </tr>\n",
       "    <tr>\n",
       "      <th>Athlete</th>\n",
       "      <td>-0.142253</td>\n",
       "      <td>-0.017869</td>\n",
       "      <td>-0.209431</td>\n",
       "      <td>0.052644</td>\n",
       "      <td>1.000000</td>\n",
       "      <td>0.059783</td>\n",
       "    </tr>\n",
       "    <tr>\n",
       "      <th>Retained</th>\n",
       "      <td>0.182637</td>\n",
       "      <td>0.219257</td>\n",
       "      <td>0.064911</td>\n",
       "      <td>0.109908</td>\n",
       "      <td>0.059783</td>\n",
       "      <td>1.000000</td>\n",
       "    </tr>\n",
       "  </tbody>\n",
       "</table>\n",
       "</div>"
      ],
      "text/plain": [
       "           ACT_SCORE    HS_GPA    Gender  Resident   Athlete  Retained\n",
       "ACT_SCORE   1.000000  0.472962  0.051939  0.106525 -0.142253  0.182637\n",
       "HS_GPA      0.472962  1.000000  0.202624  0.083394 -0.017869  0.219257\n",
       "Gender      0.051939  0.202624  1.000000 -0.008039 -0.209431  0.064911\n",
       "Resident    0.106525  0.083394 -0.008039  1.000000  0.052644  0.109908\n",
       "Athlete    -0.142253 -0.017869 -0.209431  0.052644  1.000000  0.059783\n",
       "Retained    0.182637  0.219257  0.064911  0.109908  0.059783  1.000000"
      ]
     },
     "execution_count": 20,
     "metadata": {},
     "output_type": "execute_result"
    }
   ],
   "source": [
    "student_data[['ACT_SCORE', 'HS_GPA','Gender','Resident','Athlete','Retained']].corr()"
   ]
  },
  {
   "cell_type": "code",
   "execution_count": 21,
   "id": "6f029881-9572-4072-b962-0bd037718f2c",
   "metadata": {},
   "outputs": [
    {
     "data": {
      "text/html": [
       "<div>\n",
       "<style scoped>\n",
       "    .dataframe tbody tr th:only-of-type {\n",
       "        vertical-align: middle;\n",
       "    }\n",
       "\n",
       "    .dataframe tbody tr th {\n",
       "        vertical-align: top;\n",
       "    }\n",
       "\n",
       "    .dataframe thead th {\n",
       "        text-align: right;\n",
       "    }\n",
       "</style>\n",
       "<table border=\"1\" class=\"dataframe\">\n",
       "  <thead>\n",
       "    <tr style=\"text-align: right;\">\n",
       "      <th></th>\n",
       "      <th>ACT_RECEIVED</th>\n",
       "      <th>HS_GPA</th>\n",
       "      <th>Gender</th>\n",
       "      <th>Resident</th>\n",
       "      <th>Athlete</th>\n",
       "      <th>Retained</th>\n",
       "    </tr>\n",
       "  </thead>\n",
       "  <tbody>\n",
       "    <tr>\n",
       "      <th>ACT_RECEIVED</th>\n",
       "      <td>1.000000</td>\n",
       "      <td>0.290736</td>\n",
       "      <td>0.019575</td>\n",
       "      <td>0.006860</td>\n",
       "      <td>0.179156</td>\n",
       "      <td>-0.009841</td>\n",
       "    </tr>\n",
       "    <tr>\n",
       "      <th>HS_GPA</th>\n",
       "      <td>0.290736</td>\n",
       "      <td>1.000000</td>\n",
       "      <td>0.202624</td>\n",
       "      <td>0.083394</td>\n",
       "      <td>-0.017869</td>\n",
       "      <td>0.219257</td>\n",
       "    </tr>\n",
       "    <tr>\n",
       "      <th>Gender</th>\n",
       "      <td>0.019575</td>\n",
       "      <td>0.202624</td>\n",
       "      <td>1.000000</td>\n",
       "      <td>-0.008039</td>\n",
       "      <td>-0.209431</td>\n",
       "      <td>0.064911</td>\n",
       "    </tr>\n",
       "    <tr>\n",
       "      <th>Resident</th>\n",
       "      <td>0.006860</td>\n",
       "      <td>0.083394</td>\n",
       "      <td>-0.008039</td>\n",
       "      <td>1.000000</td>\n",
       "      <td>0.052644</td>\n",
       "      <td>0.109908</td>\n",
       "    </tr>\n",
       "    <tr>\n",
       "      <th>Athlete</th>\n",
       "      <td>0.179156</td>\n",
       "      <td>-0.017869</td>\n",
       "      <td>-0.209431</td>\n",
       "      <td>0.052644</td>\n",
       "      <td>1.000000</td>\n",
       "      <td>0.059783</td>\n",
       "    </tr>\n",
       "    <tr>\n",
       "      <th>Retained</th>\n",
       "      <td>-0.009841</td>\n",
       "      <td>0.219257</td>\n",
       "      <td>0.064911</td>\n",
       "      <td>0.109908</td>\n",
       "      <td>0.059783</td>\n",
       "      <td>1.000000</td>\n",
       "    </tr>\n",
       "  </tbody>\n",
       "</table>\n",
       "</div>"
      ],
      "text/plain": [
       "              ACT_RECEIVED    HS_GPA    Gender  Resident   Athlete  Retained\n",
       "ACT_RECEIVED      1.000000  0.290736  0.019575  0.006860  0.179156 -0.009841\n",
       "HS_GPA            0.290736  1.000000  0.202624  0.083394 -0.017869  0.219257\n",
       "Gender            0.019575  0.202624  1.000000 -0.008039 -0.209431  0.064911\n",
       "Resident          0.006860  0.083394 -0.008039  1.000000  0.052644  0.109908\n",
       "Athlete           0.179156 -0.017869 -0.209431  0.052644  1.000000  0.059783\n",
       "Retained         -0.009841  0.219257  0.064911  0.109908  0.059783  1.000000"
      ]
     },
     "execution_count": 21,
     "metadata": {},
     "output_type": "execute_result"
    }
   ],
   "source": [
    "student_data[['ACT_RECEIVED', 'HS_GPA','Gender','Resident','Athlete','Retained']].corr()"
   ]
  },
  {
   "cell_type": "code",
   "execution_count": 22,
   "id": "cccb4797-6971-4ca1-be63-6c3f171b0c8a",
   "metadata": {},
   "outputs": [
    {
     "data": {
      "text/plain": [
       "<AxesSubplot:>"
      ]
     },
     "execution_count": 22,
     "metadata": {},
     "output_type": "execute_result"
    },
    {
     "data": {
      "image/png": "[encoded data removed]",
      "text/plain": [
       "<Figure size 640x480 with 2 Axes>"
      ]
     },
     "metadata": {},
     "output_type": "display_data"
    }
   ],
   "source": [
    "cmap = sns.diverging_palette(220, 10, as_cmap=True)\n",
    "sns.heatmap(student_data[['ACT_RECEIVED', 'HS_GPA','Gender','Resident','Athlete','Retained']].corr(), vmax=.3, center=0, cmap=cmap,\n",
    "            square=True, linewidth=.5, cbar_kws={\"shrink\": .5})"
   ]
  },
  {
   "cell_type": "code",
   "execution_count": 23,
   "id": "393f0808-154c-4b83-8039-255dba2f68d2",
   "metadata": {},
   "outputs": [
    {
     "data": {
      "text/plain": [
       "<AxesSubplot:>"
      ]
     },
     "execution_count": 23,
     "metadata": {},
     "output_type": "execute_result"
    },
    {
     "data": {
      "image/png": "[encoded data removed]",
      "text/plain": [
       "<Figure size 640x480 with 2 Axes>"
      ]
     },
     "metadata": {},
     "output_type": "display_data"
    }
   ],
   "source": [
    "cmap = sns.diverging_palette(220, 10, as_cmap=True)\n",
    "sns.heatmap(student_data[['ACT_SCORE', 'HS_GPA','Gender','Resident','Athlete','Retained']].corr(), vmax=.3, center=0, cmap=cmap,\n",
    "            square=True, linewidth=.5, cbar_kws={\"shrink\": .5})"
   ]
  },
  {
   "cell_type": "code",
   "execution_count": 24,
   "id": "a6fc357f-f8ad-4ee5-a5cb-e86c720c4893",
   "metadata": {},
   "outputs": [
    {
     "data": {
      "image/png": "[encoded data removed]",
      "text/plain": [
       "<Figure size 640x480 with 1 Axes>"
      ]
     },
     "metadata": {},
     "output_type": "display_data"
    }
   ],
   "source": [
    "retain = student_data['Retained']\n",
    "act_score = student_data['ACT_SCORE']\n",
    "#plt.scatter(height, weight)\n",
    "#plt.xlabel('height (cm)')\n",
    "#plt.ylabel('weight (kg)')\n",
    "#plt.show()\n",
    "\n",
    "gender = student_data['Gender']\n",
    "plt.scatter(act_score, retain, c=gender)\n",
    "plt.xlabel('act_score')\n",
    "plt.ylabel('retained')\n",
    "plt.show()\n",
    "\n",
    "#age = howell_full['age']\n",
    "#plt.scatter(age, height, c=gender)\n",
    "#plt.xlabel('age (years)')\n",
    "#plt.ylabel('height (cm)')\n",
    "#plt.show()"
   ]
  },
  {
   "cell_type": "code",
   "execution_count": 25,
   "id": "e1652a82-8932-4a53-9ada-d38324d35ff9",
   "metadata": {},
   "outputs": [
    {
     "name": "stdout",
     "output_type": "stream",
     "text": [
      "Train size: 4050 Test size: 1013\n"
     ]
    }
   ],
   "source": [
    "from sklearn.model_selection import train_test_split\n",
    "\n",
    "train_set, test_set = train_test_split(student_data,\n",
    "                                       test_size=0.2,random_state=123)\n",
    "\n",
    "print('Train size:', len(train_set), 'Test size:', len(test_set))"
   ]
  },
  {
   "cell_type": "code",
   "execution_count": 42,
   "id": "2c3bc72d-837b-4485-ba0c-fb00c8d31614",
   "metadata": {},
   "outputs": [
    {
     "name": "stdout",
     "output_type": "stream",
     "text": [
      "Results for linear regression on training data\n",
      " Default settings\n",
      "Internal parameters:\n",
      " Bias is  -0.4095416424874442\n",
      " Coefficients [0.01361052 0.15729609 0.03985073 0.16511703 0.08239223]\n",
      " Score 0.06899274398522293\n",
      "MAE is  0.42578969531126254\n",
      "RMSE is  0.4613669346522417\n",
      "MSE is  0.21285944839040585\n",
      "R^2  0.06899274398522293\n",
      "\n",
      "Results for linear regression on test data\n",
      "MAE is  0.4338361915320512\n",
      "RMSE is  0.46917166925379195\n",
      "MSE is  0.22012205523038955\n",
      "R^2  0.07209229150763419\n"
     ]
    }
   ],
   "source": [
    "from sklearn.linear_model import LinearRegression\n",
    "from sklearn.metrics import mean_absolute_error\n",
    "from sklearn.metrics import mean_squared_error\n",
    "from sklearn.metrics import r2_score\n",
    "\n",
    "X = train_set[['ACT_SCORE', 'HS_GPA', 'Gender', 'Resident','Athlete']]\n",
    "y = train_set['Retained']\n",
    "X_test = test_set[['ACT_SCORE', 'HS_GPA', 'Gender','Resident','Athlete']]\n",
    "y_test = test_set['Retained']\n",
    "\n",
    "lr_model = LinearRegression()\n",
    "lr_model.fit(X,y)\n",
    "\n",
    "###Predictoin of the model with training data\n",
    "\n",
    "y_pred = lr_model.predict(X)\n",
    "print('Results for linear regression on training data')\n",
    "print(' Default settings')\n",
    "print('Internal parameters:')\n",
    "print(' Bias is ', lr_model.intercept_)\n",
    "print(' Coefficients', lr_model.coef_)\n",
    "print(' Score', lr_model.score(X,y))\n",
    "print('MAE is ', mean_absolute_error(y, y_pred))\n",
    "print('RMSE is ', np.sqrt(mean_squared_error(y, y_pred)))\n",
    "print('MSE is ', mean_squared_error(y, y_pred))\n",
    "print('R^2 ', r2_score(y,y_pred))\n",
    "\n",
    "### Getting the performance of model on the test data\n",
    "\n",
    "y_test_pred = lr_model.predict(X_test)\n",
    "print()\n",
    "print('Results for linear regression on test data')\n",
    "print('MAE is ', mean_absolute_error(y_test, y_test_pred))\n",
    "print('RMSE is ', np.sqrt(mean_squared_error(y_test,\n",
    "y_test_pred)))\n",
    "print('MSE is ', mean_squared_error(y_test, y_test_pred))\n",
    "print('R^2 ', r2_score(y_test,y_test_pred))"
   ]
  },
  {
   "cell_type": "code",
   "execution_count": 27,
   "id": "44f44bfb-2669-4e02-b19a-2a9fe02a4dad",
   "metadata": {},
   "outputs": [
    {
     "name": "stdout",
     "output_type": "stream",
     "text": [
      "Results for decision tree on training data\n",
      "  Default settings\n",
      "Confusion Matrix\n",
      "[[1109  324]\n",
      " [ 181 2436]]\n",
      "Accuracy is   0.8753086419753087\n",
      "Precision is  0.874499411218881\n",
      "Recall is     0.8753086419753087\n",
      "F1 is         0.8736925888352375\n",
      "\n",
      "Results for decision tree on test data\n",
      "  Default settings\n",
      "Confusion Matrix\n",
      "[[147 245]\n",
      " [193 428]]\n",
      "Accuracy is   0.5676209279368213\n",
      "Precision is  0.557169315289662\n",
      "Recall is     0.5676209279368213\n",
      "F1 is         0.5609508797520644\n"
     ]
    }
   ],
   "source": [
    "from sklearn.tree import DecisionTreeClassifier\n",
    "from sklearn.metrics import confusion_matrix\n",
    "from sklearn.metrics import accuracy_score, f1_score\n",
    "from sklearn.metrics import precision_score, recall_score\n",
    "  \n",
    "\n",
    "X = train_set[['ACT_SCORE','HS_GPA','Gender', 'Resident','Athlete']]\n",
    "y = train_set['Retained']\n",
    "\n",
    "X_test = test_set[['ACT_SCORE','HS_GPA','Gender', 'Resident','Athlete']]\n",
    "y_test = test_set['Retained']\n",
    "\n",
    "tree_model = DecisionTreeClassifier()\n",
    "tree_model.fit(X,y)\n",
    "\n",
    "y_pred = tree_model.predict(X)\n",
    "print('Results for decision tree on training data')\n",
    "print('  Default settings')\n",
    "print(\"Confusion Matrix\")\n",
    "print(confusion_matrix(y, y_pred))\n",
    "print('Accuracy is  ', accuracy_score(y, y_pred))\n",
    "print('Precision is ', precision_score(y, y_pred, average='weighted'))\n",
    "print('Recall is    ', recall_score(y,y_pred, average='weighted'))\n",
    "print('F1 is        ', f1_score(y, y_pred, average='weighted'))\n",
    "print()\n",
    "\n",
    "y_test_pred = tree_model.predict(X_test)\n",
    "print('Results for decision tree on test data')\n",
    "print('  Default settings')\n",
    "print(\"Confusion Matrix\")\n",
    "print(confusion_matrix(y_test, y_test_pred))\n",
    "print('Accuracy is  ', accuracy_score(y_test, y_test_pred))\n",
    "print('Precision is ', precision_score(y_test, y_test_pred, average='weighted'))\n",
    "print('Recall is    ', recall_score(y_test,y_test_pred, average='weighted'))\n",
    "print('F1 is        ', f1_score(y_test, y_test_pred, average='weighted'))"
   ]
  },
  {
   "cell_type": "code",
   "execution_count": 28,
   "id": "ab3a592f-c428-41b8-8a2b-175196eae8d1",
   "metadata": {},
   "outputs": [
    {
     "name": "stdout",
     "output_type": "stream",
     "text": [
      "Results for NN on train data\n",
      "  Default settings\n",
      "Confusion Matrix\n",
      "[[ 278 1155]\n",
      " [ 193 2424]]\n",
      "Accuracy is   0.6671604938271605\n",
      "Precision is  0.646483286744518\n",
      "Recall is     0.6671604938271605\n",
      "F1 is         0.6089151376305011\n",
      "\n",
      "Results for NN on test data\n",
      "  Default settings\n",
      "Confusion Matrix\n",
      "[[ 78 314]\n",
      " [ 54 567]]\n",
      "Accuracy is   0.6367226061204343\n",
      "Precision is  0.623202158952501\n",
      "Recall is     0.6367226061204343\n",
      "F1 is         0.5780386530987026\n"
     ]
    }
   ],
   "source": [
    "from sklearn.neural_network import MLPClassifier\n",
    "from sklearn.metrics import confusion_matrix\n",
    "from sklearn.metrics import accuracy_score, f1_score\n",
    "from sklearn.metrics import precision_score, recall_score\n",
    "  \n",
    "\n",
    "X = train_set[['ACT_SCORE','HS_GPA','Gender', 'Resident','Athlete']]\n",
    "y = train_set['Retained']\n",
    "\n",
    "X_test = test_set[['ACT_SCORE','HS_GPA','Gender', 'Resident','Athlete']]\n",
    "y_test = test_set['Retained']\n",
    "\n",
    "nn_model = MLPClassifier(hidden_layer_sizes=(50, 25, 10),\n",
    "                         solver='lbfgs')\n",
    "nn_model.fit(X,y)\n",
    "\n",
    "y_pred = nn_model.predict(X)\n",
    "\n",
    "\n",
    "print('Results for NN on train data')\n",
    "print('  Default settings')\n",
    "print(\"Confusion Matrix\")\n",
    "print(confusion_matrix(y, y_pred))\n",
    "print('Accuracy is  ', accuracy_score(y, y_pred))\n",
    "print('Precision is ', precision_score(y, y_pred, average='weighted'))\n",
    "print('Recall is    ', recall_score(y,y_pred, average='weighted'))\n",
    "print('F1 is        ', f1_score(y, y_pred, average='weighted'))\n",
    "print()\n",
    "\n",
    "y_test_pred = nn_model.predict(X_test)\n",
    "print('Results for NN on test data')\n",
    "print('  Default settings')\n",
    "print(\"Confusion Matrix\")\n",
    "print(confusion_matrix(y_test, y_test_pred))\n",
    "print('Accuracy is  ', accuracy_score(y_test, y_test_pred))\n",
    "print('Precision is ', precision_score(y_test, y_test_pred, average='weighted'))\n",
    "print('Recall is    ', recall_score(y_test,y_test_pred, average='weighted'))\n",
    "print('F1 is        ', f1_score(y_test, y_test_pred, average='weighted'))"
   ]
  },
  {
   "cell_type": "code",
   "execution_count": 29,
   "id": "ad23cb25-2ba5-4cc2-ab7b-3765cb49db4e",
   "metadata": {},
   "outputs": [
    {
     "name": "stdout",
     "output_type": "stream",
     "text": [
      "Results for Random Forest on train data\n",
      "  Default settings\n",
      "Confusion Matrix\n",
      "[[1041  392]\n",
      " [ 113 2504]]\n",
      "Accuracy is   0.8753086419753087\n",
      "Precision is  0.877887761976415\n",
      "Recall is     0.8753086419753087\n",
      "F1 is         0.8717400206770998\n",
      "\n",
      "Results for Random Forest on test data\n",
      "  Default settings\n",
      "Confusion Matrix\n",
      "[[137 255]\n",
      " [162 459]]\n",
      "Accuracy is   0.5883514313919053\n",
      "Precision is  0.5713981498993731\n",
      "Recall is     0.5883514313919053\n",
      "F1 is         0.5749883652872662\n"
     ]
    }
   ],
   "source": [
    "from sklearn.ensemble import RandomForestClassifier\n",
    "from sklearn.metrics import confusion_matrix\n",
    "from sklearn.metrics import accuracy_score, f1_score\n",
    "from sklearn.metrics import precision_score, recall_score\n",
    "  \n",
    "X = train_set[['ACT_SCORE','HS_GPA','Gender', 'Resident','Athlete']]\n",
    "y = train_set['Retained']\n",
    "\n",
    "X_test = test_set[['ACT_SCORE','HS_GPA','Gender', 'Resident','Athlete']]\n",
    "y_test = test_set['Retained']\n",
    "\n",
    "rf_model = RandomForestClassifier(n_estimators=150)\n",
    "rf_model.fit(X,y)\n",
    "\n",
    "y_pred = rf_model.predict(X)\n",
    "\n",
    "print('Results for Random Forest on train data')\n",
    "print('  Default settings')\n",
    "print(\"Confusion Matrix\")\n",
    "print(confusion_matrix(y, y_pred))\n",
    "print('Accuracy is  ', accuracy_score(y, y_pred))\n",
    "print('Precision is ', precision_score(y, y_pred, average='weighted'))\n",
    "print('Recall is    ', recall_score(y,y_pred, average='weighted'))\n",
    "print('F1 is        ', f1_score(y, y_pred, average='weighted'))\n",
    "print()\n",
    "\n",
    "y_test_pred = rf_model.predict(X_test)\n",
    "print('Results for Random Forest on test data')\n",
    "print('  Default settings')\n",
    "print(\"Confusion Matrix\")\n",
    "print(confusion_matrix(y_test, y_test_pred))\n",
    "print('Accuracy is  ', accuracy_score(y_test, y_test_pred))\n",
    "print('Precision is ', precision_score(y_test, y_test_pred, average='weighted'))\n",
    "print('Recall is    ', recall_score(y_test,y_test_pred, average='weighted'))\n",
    "print('F1 is        ', f1_score(y_test, y_test_pred, average='weighted'))"
   ]
  },
  {
   "cell_type": "code",
   "execution_count": 30,
   "id": "4b82f932-200a-47a9-98db-43edc85ff580",
   "metadata": {},
   "outputs": [
    {
     "name": "stdout",
     "output_type": "stream",
     "text": [
      "Results for ADA on train data\n",
      "  Default settings\n",
      "Confusion Matrix\n",
      "[[ 372 1061]\n",
      " [ 230 2387]]\n",
      "Accuracy is   0.6812345679012346\n",
      "Precision is  0.6659800376581705\n",
      "Recall is     0.6812345679012346\n",
      "F1 is         0.6379879574295622\n",
      "\n",
      "Results for ADA on test data\n",
      "  Default settings\n",
      "Confusion Matrix\n",
      "[[ 94 298]\n",
      " [ 54 567]]\n",
      "Accuracy is   0.6525172754195459\n",
      "Precision is  0.6476141052121515\n",
      "Recall is     0.6525172754195459\n",
      "F1 is         0.602540110510918\n"
     ]
    }
   ],
   "source": [
    "from sklearn.ensemble import AdaBoostClassifier\n",
    "from sklearn.metrics import confusion_matrix\n",
    "from sklearn.metrics import accuracy_score, f1_score\n",
    "from sklearn.metrics import precision_score, recall_score\n",
    "  \n",
    "X = train_set[['ACT_SCORE','HS_GPA','Gender', 'Resident','Athlete']]\n",
    "y = train_set['Retained']\n",
    "\n",
    "X_test = test_set[['ACT_SCORE','HS_GPA','Gender', 'Resident','Athlete']]\n",
    "y_test = test_set['Retained']\n",
    "\n",
    "ada_model = AdaBoostClassifier(n_estimators=150)\n",
    "ada_model.fit(X,y)\n",
    "\n",
    "y_pred = ada_model.predict(X)\n",
    "\n",
    "print('Results for ADA on train data')\n",
    "print('  Default settings')\n",
    "print(\"Confusion Matrix\")\n",
    "print(confusion_matrix(y, y_pred))\n",
    "print('Accuracy is  ', accuracy_score(y, y_pred))\n",
    "print('Precision is ', precision_score(y, y_pred, average='weighted'))\n",
    "print('Recall is    ', recall_score(y,y_pred, average='weighted'))\n",
    "print('F1 is        ', f1_score(y, y_pred, average='weighted'))\n",
    "print()\n",
    "\n",
    "y_test_pred = ada_model.predict(X_test)\n",
    "print('Results for ADA on test data')\n",
    "print('  Default settings')\n",
    "print(\"Confusion Matrix\")\n",
    "print(confusion_matrix(y_test, y_test_pred))\n",
    "print('Accuracy is  ', accuracy_score(y_test, y_test_pred))\n",
    "print('Precision is ', precision_score(y_test, y_test_pred, average='weighted'))\n",
    "print('Recall is    ', recall_score(y_test,y_test_pred, average='weighted'))\n",
    "print('F1 is        ', f1_score(y_test, y_test_pred, average='weighted'))"
   ]
  },
  {
   "cell_type": "code",
   "execution_count": 31,
   "id": "8f1d295f-0f8d-4c70-96b5-f05f5b04dad9",
   "metadata": {},
   "outputs": [
    {
     "name": "stdout",
     "output_type": "stream",
     "text": [
      "Results for Voting Ensemble on training data\n",
      "  Default settings\n",
      "Confusion Matrix\n",
      "[[ 267 1166]\n",
      " [  45 2572]]\n",
      "Accuracy is   0.7009876543209876\n",
      "Precision is  0.7474055642189225\n",
      "Recall is     0.7009876543209876\n",
      "F1 is         0.6313162320884897\n",
      "\n",
      "Results for Voting Ensemble on test data\n",
      "  Default settings\n",
      "Confusion Matrix\n",
      "[[ 45 347]\n",
      " [ 31 590]]\n",
      "Accuracy is   0.6268509378084897\n",
      "Precision is  0.6151330795485238\n",
      "Recall is     0.6268509378084897\n",
      "F1 is         0.5387150805695602\n"
     ]
    }
   ],
   "source": [
    "from sklearn.ensemble import AdaBoostClassifier\n",
    "from sklearn.metrics import confusion_matrix\n",
    "from sklearn.metrics import accuracy_score, f1_score\n",
    "from sklearn.metrics import precision_score, recall_score\n",
    "from sklearn.ensemble import VotingClassifier\n",
    "from sklearn.tree import DecisionTreeClassifier\n",
    "from sklearn.svm import SVC\n",
    "from sklearn.neural_network import MLPClassifier\n",
    "\n",
    "# Build the classifiers\n",
    "vc1_dt = DecisionTreeClassifier()\n",
    "vc2_svm = SVC()\n",
    "vc3_nn = MLPClassifier(hidden_layer_sizes=(50, 25, 10),\n",
    "                       solver='lbfgs')\n",
    "\n",
    "# Bundle into a list with names\n",
    "vcList = [('DT',vc1_dt),\n",
    "          ('SVM',vc2_svm),\n",
    "          ('NN',vc3_nn)]\n",
    "  \n",
    "X = train_set[['ACT_SCORE','HS_GPA','Gender', 'Resident','Athlete']]\n",
    "y = train_set['Retained']\n",
    "\n",
    "X_test = test_set[['ACT_SCORE','HS_GPA','Gender', 'Resident','Athlete']]\n",
    "y_test = test_set['Retained']\n",
    "\n",
    "#ada_model = AdaBoostClassifier(n_estimators=150)\n",
    "vote_model = VotingClassifier(vcList)\n",
    "vote_model.fit(X,y)\n",
    "\n",
    "y_pred = vote_model.predict(X)\n",
    "\n",
    "print('Results for Voting Ensemble on training data')\n",
    "print('  Default settings')\n",
    "print(\"Confusion Matrix\")\n",
    "print(confusion_matrix(y, y_pred))\n",
    "print('Accuracy is  ', accuracy_score(y, y_pred))\n",
    "print('Precision is ', precision_score(y, y_pred, average='weighted'))\n",
    "print('Recall is    ', recall_score(y,y_pred, average='weighted'))\n",
    "print('F1 is        ', f1_score(y, y_pred, average='weighted'))\n",
    "print()\n",
    "\n",
    "y_test_pred = vote_model.predict(X_test)\n",
    "print('Results for Voting Ensemble on test data')\n",
    "print('  Default settings')\n",
    "print(\"Confusion Matrix\")\n",
    "print(confusion_matrix(y_test, y_test_pred))\n",
    "print('Accuracy is  ', accuracy_score(y_test, y_test_pred))\n",
    "print('Precision is ', precision_score(y_test, y_test_pred, average='weighted'))\n",
    "print('Recall is    ', recall_score(y_test,y_test_pred, average='weighted'))\n",
    "print('F1 is        ', f1_score(y_test, y_test_pred, average='weighted'))"
   ]
  },
  {
   "cell_type": "code",
   "execution_count": 32,
   "id": "5b47a80d-0d59-493a-87a3-ed335add4d15",
   "metadata": {},
   "outputs": [
    {
     "data": {
      "text/html": [
       "<table class=\"simpletable\">\n",
       "<caption>OLS Regression Results</caption>\n",
       "<tr>\n",
       "  <th>Dep. Variable:</th>        <td>Retained</td>     <th>  R-squared:         </th> <td>   0.069</td>\n",
       "</tr>\n",
       "<tr>\n",
       "  <th>Model:</th>                   <td>OLS</td>       <th>  Adj. R-squared:    </th> <td>   0.068</td>\n",
       "</tr>\n",
       "<tr>\n",
       "  <th>Method:</th>             <td>Least Squares</td>  <th>  F-statistic:       </th> <td>   59.94</td>\n",
       "</tr>\n",
       "<tr>\n",
       "  <th>Date:</th>             <td>Sun, 19 Nov 2023</td> <th>  Prob (F-statistic):</th> <td>2.09e-60</td>\n",
       "</tr>\n",
       "<tr>\n",
       "  <th>Time:</th>                 <td>19:21:58</td>     <th>  Log-Likelihood:    </th> <td> -2613.8</td>\n",
       "</tr>\n",
       "<tr>\n",
       "  <th>No. Observations:</th>      <td>  4050</td>      <th>  AIC:               </th> <td>   5240.</td>\n",
       "</tr>\n",
       "<tr>\n",
       "  <th>Df Residuals:</th>          <td>  4044</td>      <th>  BIC:               </th> <td>   5277.</td>\n",
       "</tr>\n",
       "<tr>\n",
       "  <th>Df Model:</th>              <td>     5</td>      <th>                     </th>     <td> </td>   \n",
       "</tr>\n",
       "<tr>\n",
       "  <th>Covariance Type:</th>      <td>nonrobust</td>    <th>                     </th>     <td> </td>   \n",
       "</tr>\n",
       "</table>\n",
       "<table class=\"simpletable\">\n",
       "<tr>\n",
       "      <td></td>         <th>coef</th>     <th>std err</th>      <th>t</th>      <th>P>|t|</th>  <th>[0.025</th>    <th>0.975]</th>  \n",
       "</tr>\n",
       "<tr>\n",
       "  <th>const</th>     <td>   -0.4095</td> <td>    0.063</td> <td>   -6.467</td> <td> 0.000</td> <td>   -0.534</td> <td>   -0.285</td>\n",
       "</tr>\n",
       "<tr>\n",
       "  <th>ACT_SCORE</th> <td>    0.0136</td> <td>    0.002</td> <td>    5.947</td> <td> 0.000</td> <td>    0.009</td> <td>    0.018</td>\n",
       "</tr>\n",
       "<tr>\n",
       "  <th>HS_GPA</th>    <td>    0.1573</td> <td>    0.018</td> <td>    8.920</td> <td> 0.000</td> <td>    0.123</td> <td>    0.192</td>\n",
       "</tr>\n",
       "<tr>\n",
       "  <th>Gender</th>    <td>    0.0399</td> <td>    0.015</td> <td>    2.600</td> <td> 0.009</td> <td>    0.010</td> <td>    0.070</td>\n",
       "</tr>\n",
       "<tr>\n",
       "  <th>Resident</th>  <td>    0.1651</td> <td>    0.034</td> <td>    4.919</td> <td> 0.000</td> <td>    0.099</td> <td>    0.231</td>\n",
       "</tr>\n",
       "<tr>\n",
       "  <th>Athlete</th>   <td>    0.0824</td> <td>    0.015</td> <td>    5.385</td> <td> 0.000</td> <td>    0.052</td> <td>    0.112</td>\n",
       "</tr>\n",
       "</table>\n",
       "<table class=\"simpletable\">\n",
       "<tr>\n",
       "  <th>Omnibus:</th>       <td>35577.250</td> <th>  Durbin-Watson:     </th> <td>   1.944</td> \n",
       "</tr>\n",
       "<tr>\n",
       "  <th>Prob(Omnibus):</th>  <td> 0.000</td>   <th>  Jarque-Bera (JB):  </th> <td> 541.998</td> \n",
       "</tr>\n",
       "<tr>\n",
       "  <th>Skew:</th>           <td>-0.547</td>   <th>  Prob(JB):          </th> <td>2.03e-118</td>\n",
       "</tr>\n",
       "<tr>\n",
       "  <th>Kurtosis:</th>       <td> 1.581</td>   <th>  Cond. No.          </th> <td>    221.</td> \n",
       "</tr>\n",
       "</table><br/><br/>Notes:<br/>[1] Standard Errors assume that the covariance matrix of the errors is correctly specified."
      ],
      "text/latex": [
       "\\begin{center}\n",
       "\\begin{tabular}{lclc}\n",
       "\\toprule\n",
       "\\textbf{Dep. Variable:}    &     Retained     & \\textbf{  R-squared:         } &     0.069   \\\\\n",
       "\\textbf{Model:}            &       OLS        & \\textbf{  Adj. R-squared:    } &     0.068   \\\\\n",
       "\\textbf{Method:}           &  Least Squares   & \\textbf{  F-statistic:       } &     59.94   \\\\\n",
       "\\textbf{Date:}             & Sun, 19 Nov 2023 & \\textbf{  Prob (F-statistic):} &  2.09e-60   \\\\\n",
       "\\textbf{Time:}             &     19:21:58     & \\textbf{  Log-Likelihood:    } &   -2613.8   \\\\\n",
       "\\textbf{No. Observations:} &        4050      & \\textbf{  AIC:               } &     5240.   \\\\\n",
       "\\textbf{Df Residuals:}     &        4044      & \\textbf{  BIC:               } &     5277.   \\\\\n",
       "\\textbf{Df Model:}         &           5      & \\textbf{                     } &             \\\\\n",
       "\\textbf{Covariance Type:}  &    nonrobust     & \\textbf{                     } &             \\\\\n",
       "\\bottomrule\n",
       "\\end{tabular}\n",
       "\\begin{tabular}{lcccccc}\n",
       "                    & \\textbf{coef} & \\textbf{std err} & \\textbf{t} & \\textbf{P$> |$t$|$} & \\textbf{[0.025} & \\textbf{0.975]}  \\\\\n",
       "\\midrule\n",
       "\\textbf{const}      &      -0.4095  &        0.063     &    -6.467  &         0.000        &       -0.534    &       -0.285     \\\\\n",
       "\\textbf{ACT\\_SCORE} &       0.0136  &        0.002     &     5.947  &         0.000        &        0.009    &        0.018     \\\\\n",
       "\\textbf{HS\\_GPA}    &       0.1573  &        0.018     &     8.920  &         0.000        &        0.123    &        0.192     \\\\\n",
       "\\textbf{Gender}     &       0.0399  &        0.015     &     2.600  &         0.009        &        0.010    &        0.070     \\\\\n",
       "\\textbf{Resident}   &       0.1651  &        0.034     &     4.919  &         0.000        &        0.099    &        0.231     \\\\\n",
       "\\textbf{Athlete}    &       0.0824  &        0.015     &     5.385  &         0.000        &        0.052    &        0.112     \\\\\n",
       "\\bottomrule\n",
       "\\end{tabular}\n",
       "\\begin{tabular}{lclc}\n",
       "\\textbf{Omnibus:}       & 35577.250 & \\textbf{  Durbin-Watson:     } &     1.944  \\\\\n",
       "\\textbf{Prob(Omnibus):} &    0.000  & \\textbf{  Jarque-Bera (JB):  } &   541.998  \\\\\n",
       "\\textbf{Skew:}          &   -0.547  & \\textbf{  Prob(JB):          } & 2.03e-118  \\\\\n",
       "\\textbf{Kurtosis:}      &    1.581  & \\textbf{  Cond. No.          } &      221.  \\\\\n",
       "\\bottomrule\n",
       "\\end{tabular}\n",
       "%\\caption{OLS Regression Results}\n",
       "\\end{center}\n",
       "\n",
       "Notes: \\newline\n",
       " [1] Standard Errors assume that the covariance matrix of the errors is correctly specified."
      ],
      "text/plain": [
       "<class 'statsmodels.iolib.summary.Summary'>\n",
       "\"\"\"\n",
       "                            OLS Regression Results                            \n",
       "==============================================================================\n",
       "Dep. Variable:               Retained   R-squared:                       0.069\n",
       "Model:                            OLS   Adj. R-squared:                  0.068\n",
       "Method:                 Least Squares   F-statistic:                     59.94\n",
       "Date:                Sun, 19 Nov 2023   Prob (F-statistic):           2.09e-60\n",
       "Time:                        19:21:58   Log-Likelihood:                -2613.8\n",
       "No. Observations:                4050   AIC:                             5240.\n",
       "Df Residuals:                    4044   BIC:                             5277.\n",
       "Df Model:                           5                                         \n",
       "Covariance Type:            nonrobust                                         \n",
       "==============================================================================\n",
       "                 coef    std err          t      P>|t|      [0.025      0.975]\n",
       "------------------------------------------------------------------------------\n",
       "const         -0.4095      0.063     -6.467      0.000      -0.534      -0.285\n",
       "ACT_SCORE      0.0136      0.002      5.947      0.000       0.009       0.018\n",
       "HS_GPA         0.1573      0.018      8.920      0.000       0.123       0.192\n",
       "Gender         0.0399      0.015      2.600      0.009       0.010       0.070\n",
       "Resident       0.1651      0.034      4.919      0.000       0.099       0.231\n",
       "Athlete        0.0824      0.015      5.385      0.000       0.052       0.112\n",
       "==============================================================================\n",
       "Omnibus:                    35577.250   Durbin-Watson:                   1.944\n",
       "Prob(Omnibus):                  0.000   Jarque-Bera (JB):              541.998\n",
       "Skew:                          -0.547   Prob(JB):                    2.03e-118\n",
       "Kurtosis:                       1.581   Cond. No.                         221.\n",
       "==============================================================================\n",
       "\n",
       "Notes:\n",
       "[1] Standard Errors assume that the covariance matrix of the errors is correctly specified.\n",
       "\"\"\""
      ]
     },
     "execution_count": 32,
     "metadata": {},
     "output_type": "execute_result"
    }
   ],
   "source": [
    "import statsmodels.api as sm\n",
    "\n",
    "X_sm = X = sm.add_constant(X)\n",
    "model = sm.OLS(y, X_sm)\n",
    "model.fit().summary()"
   ]
  },
  {
   "cell_type": "code",
   "execution_count": 39,
   "id": "3699151e-48d0-47c5-a7ab-ad269693648b",
   "metadata": {},
   "outputs": [
    {
     "data": {
      "text/plain": [
       "array([-0.4403081 , -0.41704872, -0.4248961 , -0.43043699, -0.42044778])"
      ]
     },
     "execution_count": 40,
     "metadata": {},
     "output_type": "execute_result"
    }
   ],
   "source": [
    "from sklearn.linear_model import LinearRegression\n",
    "from sklearn.model_selection import cross_val_score \n",
    "\n",
    "lm = LinearRegression()\n",
    "lm.fit(X, y)\n",
    "\n",
    "cross_val_score(lm, X, y, scoring = 'neg_mean_absolute_error')"
   ]
  },
  {
   "cell_type": "code",
   "execution_count": 48,
   "id": "fe1f5b72-5f0b-444c-93d6-651267a6dfc2",
   "metadata": {},
   "outputs": [
    {
     "name": "stdout",
     "output_type": "stream",
     "text": [
      "Accuracy: 0.667324777887463\n"
     ]
    }
   ],
   "source": [
    "import pandas as pd\n",
    "from sklearn.model_selection import train_test_split\n",
    "from sklearn.linear_model import LogisticRegression\n",
    "from sklearn.metrics import accuracy_score\n",
    "\n",
    "\n",
    "# Separate features and target variable\n",
    "X = student_data[['ACT_SCORE', 'HS_GPA', 'Gender', 'Athlete', 'Resident']]\n",
    "y = student_data['Retained']\n",
    "\n",
    "# Split the data into training and testing sets\n",
    "\n",
    "X_train, X_test, y_train, y_test = train_test_split(X, y, test_size=0.2)\n",
    "\n",
    "# Train the logistic regression model\n",
    "model = LogisticRegression()\n",
    "model.fit(X_train, y_train)\n",
    "\n",
    "# Make predictions on the test set\n",
    "predictions = model.predict(X_test)\n",
    "\n",
    "# Calculate the accuracy score\n",
    "accuracy = accuracy_score(y_test, predictions)\n",
    "print('Accuracy:', accuracy)"
   ]
  },
  {
   "cell_type": "code",
   "execution_count": 59,
   "id": "1549a3c3-c6b1-4242-aa67-7fade3fe2bc1",
   "metadata": {},
   "outputs": [
    {
     "name": "stdout",
     "output_type": "stream",
     "text": [
      "Results for linear regression on training data\n",
      "Polynomial regression with degree  8\n",
      " Default settings\n",
      "Internal parameters:\n",
      " Bias is  -47.516914204696086\n",
      " Coefficients [ 3.24187838 14.44525256 10.01299073 ...  2.00354241  2.00354241\n",
      "  8.13078315]\n",
      " Score 0.12459233243806067\n",
      "MAE is  0.4021966435223431\n",
      "RMSE is  0.4473784972803133\n",
      "MSE is  0.2001475198287913\n",
      "R^2  0.12459233243806067\n",
      "\n",
      "Results for linear regression on test data\n",
      "MAE is  0.9912118167452427\n",
      "RMSE is  10.939541033469997\n",
      "MSE is  119.67355802297382\n",
      "R^2  -503.4747418699144\n"
     ]
    }
   ],
   "source": [
    "from sklearn.linear_model import LinearRegression\n",
    "from sklearn.metrics import mean_absolute_error\n",
    "from sklearn.metrics import mean_squared_error\n",
    "from sklearn.metrics import r2_score\n",
    "from sklearn.preprocessing import PolynomialFeatures\n",
    "power = 8\n",
    "poly_process = PolynomialFeatures(degree=power, include_bias=False)\n",
    "\n",
    "X = train_set[['ACT_SCORE', 'HS_GPA', 'Gender', 'Athlete', 'Resident']]\n",
    "y = train_set['Retained']\n",
    "X_poly = poly_process.fit_transform(X)\n",
    "X_test = test_set[['ACT_SCORE', 'HS_GPA', 'Gender', 'Athlete', 'Resident']]\n",
    "y_test = test_set['Retained']\n",
    "X_poly_test = poly_process.fit_transform(X_test)\n",
    "\n",
    "lr_model = LinearRegression()\n",
    "lr_model.fit(X_poly,y)\n",
    "\n",
    "###Predictoin of the model with training data\n",
    "\n",
    "y_pred = lr_model.predict(X_poly)\n",
    "print('Results for linear regression on training data')\n",
    "print('Polynomial regression with degree ', power)\n",
    "print(' Default settings')\n",
    "print('Internal parameters:')\n",
    "print(' Bias is ', lr_model.intercept_)\n",
    "print(' Coefficients', lr_model.coef_)\n",
    "print(' Score', lr_model.score(X_poly,y))\n",
    "print('MAE is ', mean_absolute_error(y, y_pred))\n",
    "print('RMSE is ', np.sqrt(mean_squared_error(y, y_pred)))\n",
    "print('MSE is ', mean_squared_error(y, y_pred))\n",
    "print('R^2 ', r2_score(y,y_pred))\n",
    "\n",
    "### Getting the performance of model on the test data\n",
    "\n",
    "y_test_pred = lr_model.predict(X_poly_test)\n",
    "print()\n",
    "print('Results for linear regression on test data')\n",
    "print('MAE is ', mean_absolute_error(y_test, y_test_pred))\n",
    "print('RMSE is ', np.sqrt(mean_squared_error(y_test,\n",
    "y_test_pred)))\n",
    "print('MSE is ', mean_squared_error(y_test, y_test_pred))\n",
    "print('R^2 ', r2_score(y_test,y_test_pred))"
   ]
  },
  {
   "cell_type": "code",
   "execution_count": 60,
   "id": "0f270abd-ff3c-43ee-8984-f5dd90596720",
   "metadata": {},
   "outputs": [
    {
     "name": "stdout",
     "output_type": "stream",
     "text": [
      "Results for elastic net on training data\n",
      "Polynomial regression with degree  8\n",
      " Default settings\n",
      "Internal parameters:\n",
      " Bias is  0.27577583626200364\n",
      " Coefficients [-0.  0. -0. ... -0. -0.  0.]\n",
      " Score 0.08086268244806338\n",
      "MAE is  0.42147688784453535\n",
      "RMSE is  0.4584163858361767\n",
      "MSE is  0.21014558280310244\n",
      "R^2  0.08086268244806338\n",
      "\n",
      "Results for elastic net on test data\n",
      "MAE is  0.43117760544479916\n",
      "RMSE is  0.4689235297191503\n",
      "MSE is  0.21988927672426684\n",
      "R^2  0.07307355151802497\n"
     ]
    },
    {
     "name": "stderr",
     "output_type": "stream",
     "text": [
      "C:\\Users\\rp150\\miniconda3\\lib\\site-packages\\sklearn\\linear_model\\_coordinate_descent.py:634: ConvergenceWarning: Objective did not converge. You might want to increase the number of iterations, check the scale of the features or consider increasing regularisation. Duality gap: 4.260e+02, tolerance: 9.260e-02\n",
      "  model = cd_fast.enet_coordinate_descent(\n"
     ]
    }
   ],
   "source": [
    "from sklearn.linear_model import ElasticNet\n",
    "from sklearn.linear_model import LinearRegression\n",
    "from sklearn.metrics import mean_absolute_error\n",
    "from sklearn.metrics import mean_squared_error\n",
    "from sklearn.metrics import r2_score\n",
    "from sklearn.preprocessing import PolynomialFeatures\n",
    "power = 8\n",
    "poly_process = PolynomialFeatures(degree=power, include_bias=False)\n",
    "\n",
    "X = train_set[['ACT_SCORE', 'HS_GPA', 'Gender', 'Athlete', 'Resident']]\n",
    "y = train_set['Retained']\n",
    "X_poly = poly_process.fit_transform(X)\n",
    "X_test = test_set[['ACT_SCORE', 'HS_GPA', 'Gender', 'Athlete', 'Resident']]\n",
    "y_test = test_set['Retained']\n",
    "X_poly_test = poly_process.fit_transform(X_test)\n",
    "\n",
    "reg_lr_model = ElasticNet(alpha=0.3, l1_ratio=0.5)\n",
    "reg_lr_model.fit(X_poly,y)\n",
    "\n",
    "###Predictoin of the model with training data\n",
    "\n",
    "y_pred = reg_lr_model.predict(X_poly)\n",
    "print('Results for elastic net on training data')\n",
    "print('Polynomial regression with degree ', power)\n",
    "print(' Default settings')\n",
    "print('Internal parameters:')\n",
    "print(' Bias is ', reg_lr_model.intercept_)\n",
    "print(' Coefficients', reg_lr_model.coef_)\n",
    "print(' Score', reg_lr_model.score(X_poly,y))\n",
    "print('MAE is ', mean_absolute_error(y, y_pred))\n",
    "print('RMSE is ', np.sqrt(mean_squared_error(y, y_pred)))\n",
    "print('MSE is ', mean_squared_error(y, y_pred))\n",
    "print('R^2 ', r2_score(y,y_pred))\n",
    "\n",
    "### Getting the performance of model on the test data\n",
    "\n",
    "y_test_pred = reg_lr_model.predict(X_poly_test)\n",
    "print()\n",
    "print('Results for elastic net on test data')\n",
    "print('MAE is ', mean_absolute_error(y_test, y_test_pred))\n",
    "print('RMSE is ', np.sqrt(mean_squared_error(y_test,\n",
    "y_test_pred)))\n",
    "print('MSE is ', mean_squared_error(y_test, y_test_pred))\n",
    "print('R^2 ', r2_score(y_test,y_test_pred))"
   ]
  },
  {
   "cell_type": "code",
   "execution_count": 62,
   "id": "cea7e6f2-ca38-4021-b822-876aa5ffd18b",
   "metadata": {},
   "outputs": [
    {
     "ename": "NameError",
     "evalue": "name 'rf' is not defined",
     "output_type": "error",
     "traceback": [
      "\u001b[1;31m---------------------------------------------------------------------------\u001b[0m",
      "\u001b[1;31mNameError\u001b[0m                                 Traceback (most recent call last)",
      "Cell \u001b[1;32mIn[62], line 2\u001b[0m\n\u001b[0;32m      1\u001b[0m \u001b[38;5;66;03m#check how important each feature was in this model\u001b[39;00m\n\u001b[1;32m----> 2\u001b[0m importance \u001b[38;5;241m=\u001b[39m student_data({\u001b[38;5;124m'\u001b[39m\u001b[38;5;124mImportance\u001b[39m\u001b[38;5;124m'\u001b[39m: \u001b[43mrf\u001b[49m\u001b[38;5;241m.\u001b[39mfeature_importances_}, index\u001b[38;5;241m=\u001b[39mX\u001b[38;5;241m.\u001b[39mcolumns)\n\u001b[0;32m      3\u001b[0m importance\u001b[38;5;241m.\u001b[39msort_values(\u001b[38;5;124m'\u001b[39m\u001b[38;5;124mImportance\u001b[39m\u001b[38;5;124m'\u001b[39m, ascending\u001b[38;5;241m=\u001b[39m\u001b[38;5;28;01mFalse\u001b[39;00m)\n",
      "\u001b[1;31mNameError\u001b[0m: name 'rf' is not defined"
     ]
    }
   ],
   "source": [
    "#check how important each feature was in this model\n",
    "importance = student_data({'Importance': rf.feature_importances_}, index=X.columns)\n",
    "importance.sort_values('Importance', ascending=False)"
   ]
  }
 ],
 "metadata": {
  "kernelspec": {
   "display_name": "Python 3 (ipykernel)",
   "language": "python",
   "name": "python3"
  },
  "language_info": {
   "codemirror_mode": {
    "name": "ipython",
    "version": 3
   },
   "file_extension": ".py",
   "mimetype": "text/x-python",
   "name": "python",
   "nbconvert_exporter": "python",
   "pygments_lexer": "ipython3",
   "version": "3.10.9"
  }
 },
 "nbformat": 4,
 "nbformat_minor": 5
}
