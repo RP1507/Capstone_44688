{
 "cells": [
  {
   "cell_type": "markdown",
   "id": "07055a49-ca57-43e7-bcbf-f340f3f8f400",
   "metadata": {},
   "source": [
    "### Read the CSV file:\n",
    "We will be importing the StudentData.csv file to analyze further. \n"
   ]
  },
  {
   "cell_type": "code",
   "execution_count": 1,
   "id": "d4725a40-cf74-4104-8e70-659e5bccabff",
   "metadata": {
    "tags": []
   },
   "outputs": [],
   "source": [
    "# read in the .csv file of student data\n",
    "\n",
    "import pandas as pd\n",
    "import numpy as np\n",
    "from scipy import stats\n",
    "import seaborn as sns\n",
    "%matplotlib inline\n",
    "import matplotlib.pyplot as plt\n",
    "student_data = pd.read_csv(\"StudentData.csv\")"
   ]
  },
  {
   "cell_type": "code",
   "execution_count": 2,
   "id": "1fa38ffc-9457-4e0f-a181-f37e11bbc3c7",
   "metadata": {},
   "outputs": [
    {
     "name": "stdout",
     "output_type": "stream",
     "text": [
      "      ID_NUM  Gender  Resident  ACT_SCORE  ACT_RECEIVED  HS_GPA  Athlete  \\\n",
      "0          1       1         1       22.0             1    3.21        0   \n",
      "1          2       1         1       22.0             1    3.66        1   \n",
      "2          3       0         1        NaN             0    2.88        0   \n",
      "3          4       1         1       30.0             1    3.73        1   \n",
      "4          5       1         1        NaN             0    3.92        1   \n",
      "...      ...     ...       ...        ...           ...     ...      ...   \n",
      "5058    5059       0         1        NaN             0     NaN        0   \n",
      "5059    5060       1         0        NaN             0     NaN        0   \n",
      "5060    5061       1         0       17.0             1     NaN        0   \n",
      "5061    5062       0         1       18.0             1     NaN        1   \n",
      "5062    5063       1         0        NaN             0     NaN        0   \n",
      "\n",
      "      Retained  \n",
      "0            0  \n",
      "1            1  \n",
      "2            1  \n",
      "3            1  \n",
      "4            1  \n",
      "...        ...  \n",
      "5058         0  \n",
      "5059         1  \n",
      "5060         1  \n",
      "5061         1  \n",
      "5062         0  \n",
      "\n",
      "[5063 rows x 8 columns]\n"
     ]
    }
   ],
   "source": [
    "print(student_data)"
   ]
  },
  {
   "cell_type": "code",
   "execution_count": 3,
   "id": "429bde75-1ba5-4452-83b7-c229e3a7699e",
   "metadata": {},
   "outputs": [
    {
     "data": {
      "text/plain": [
       "Index(['ID_NUM', 'Gender', 'Resident', 'ACT_SCORE', 'ACT_RECEIVED', 'HS_GPA',\n",
       "       'Athlete', 'Retained'],\n",
       "      dtype='object')"
      ]
     },
     "execution_count": 3,
     "metadata": {},
     "output_type": "execute_result"
    }
   ],
   "source": [
    "student_data.columns"
   ]
  },
  {
   "cell_type": "code",
   "execution_count": 4,
   "id": "52c3a173-ec0f-4d06-a41a-b958ab45ee70",
   "metadata": {},
   "outputs": [
    {
     "data": {
      "text/html": [
       "<div>\n",
       "<style scoped>\n",
       "    .dataframe tbody tr th:only-of-type {\n",
       "        vertical-align: middle;\n",
       "    }\n",
       "\n",
       "    .dataframe tbody tr th {\n",
       "        vertical-align: top;\n",
       "    }\n",
       "\n",
       "    .dataframe thead th {\n",
       "        text-align: right;\n",
       "    }\n",
       "</style>\n",
       "<table border=\"1\" class=\"dataframe\">\n",
       "  <thead>\n",
       "    <tr style=\"text-align: right;\">\n",
       "      <th></th>\n",
       "      <th>ID_NUM</th>\n",
       "      <th>Gender</th>\n",
       "      <th>Resident</th>\n",
       "      <th>ACT_SCORE</th>\n",
       "      <th>ACT_RECEIVED</th>\n",
       "      <th>HS_GPA</th>\n",
       "      <th>Athlete</th>\n",
       "      <th>Retained</th>\n",
       "    </tr>\n",
       "  </thead>\n",
       "  <tbody>\n",
       "    <tr>\n",
       "      <th>count</th>\n",
       "      <td>5063.000000</td>\n",
       "      <td>5063.000000</td>\n",
       "      <td>5063.000000</td>\n",
       "      <td>4189.000000</td>\n",
       "      <td>5063.000000</td>\n",
       "      <td>3997.000000</td>\n",
       "      <td>5063.000000</td>\n",
       "      <td>5063.000000</td>\n",
       "    </tr>\n",
       "    <tr>\n",
       "      <th>mean</th>\n",
       "      <td>2532.000000</td>\n",
       "      <td>0.458424</td>\n",
       "      <td>0.950622</td>\n",
       "      <td>23.889472</td>\n",
       "      <td>0.827375</td>\n",
       "      <td>2.978556</td>\n",
       "      <td>0.426230</td>\n",
       "      <td>0.639542</td>\n",
       "    </tr>\n",
       "    <tr>\n",
       "      <th>std</th>\n",
       "      <td>1461.706537</td>\n",
       "      <td>0.498318</td>\n",
       "      <td>0.216677</td>\n",
       "      <td>4.022140</td>\n",
       "      <td>0.377960</td>\n",
       "      <td>1.287854</td>\n",
       "      <td>0.494577</td>\n",
       "      <td>0.480181</td>\n",
       "    </tr>\n",
       "    <tr>\n",
       "      <th>min</th>\n",
       "      <td>1.000000</td>\n",
       "      <td>0.000000</td>\n",
       "      <td>0.000000</td>\n",
       "      <td>11.000000</td>\n",
       "      <td>0.000000</td>\n",
       "      <td>0.000000</td>\n",
       "      <td>0.000000</td>\n",
       "      <td>0.000000</td>\n",
       "    </tr>\n",
       "    <tr>\n",
       "      <th>25%</th>\n",
       "      <td>1266.500000</td>\n",
       "      <td>0.000000</td>\n",
       "      <td>1.000000</td>\n",
       "      <td>21.000000</td>\n",
       "      <td>1.000000</td>\n",
       "      <td>2.840000</td>\n",
       "      <td>0.000000</td>\n",
       "      <td>0.000000</td>\n",
       "    </tr>\n",
       "    <tr>\n",
       "      <th>50%</th>\n",
       "      <td>2532.000000</td>\n",
       "      <td>0.000000</td>\n",
       "      <td>1.000000</td>\n",
       "      <td>24.000000</td>\n",
       "      <td>1.000000</td>\n",
       "      <td>3.410000</td>\n",
       "      <td>0.000000</td>\n",
       "      <td>1.000000</td>\n",
       "    </tr>\n",
       "    <tr>\n",
       "      <th>75%</th>\n",
       "      <td>3797.500000</td>\n",
       "      <td>1.000000</td>\n",
       "      <td>1.000000</td>\n",
       "      <td>27.000000</td>\n",
       "      <td>1.000000</td>\n",
       "      <td>3.800000</td>\n",
       "      <td>1.000000</td>\n",
       "      <td>1.000000</td>\n",
       "    </tr>\n",
       "    <tr>\n",
       "      <th>max</th>\n",
       "      <td>5063.000000</td>\n",
       "      <td>1.000000</td>\n",
       "      <td>1.000000</td>\n",
       "      <td>35.000000</td>\n",
       "      <td>1.000000</td>\n",
       "      <td>5.140000</td>\n",
       "      <td>1.000000</td>\n",
       "      <td>1.000000</td>\n",
       "    </tr>\n",
       "  </tbody>\n",
       "</table>\n",
       "</div>"
      ],
      "text/plain": [
       "            ID_NUM       Gender     Resident    ACT_SCORE  ACT_RECEIVED  \\\n",
       "count  5063.000000  5063.000000  5063.000000  4189.000000   5063.000000   \n",
       "mean   2532.000000     0.458424     0.950622    23.889472      0.827375   \n",
       "std    1461.706537     0.498318     0.216677     4.022140      0.377960   \n",
       "min       1.000000     0.000000     0.000000    11.000000      0.000000   \n",
       "25%    1266.500000     0.000000     1.000000    21.000000      1.000000   \n",
       "50%    2532.000000     0.000000     1.000000    24.000000      1.000000   \n",
       "75%    3797.500000     1.000000     1.000000    27.000000      1.000000   \n",
       "max    5063.000000     1.000000     1.000000    35.000000      1.000000   \n",
       "\n",
       "            HS_GPA      Athlete     Retained  \n",
       "count  3997.000000  5063.000000  5063.000000  \n",
       "mean      2.978556     0.426230     0.639542  \n",
       "std       1.287854     0.494577     0.480181  \n",
       "min       0.000000     0.000000     0.000000  \n",
       "25%       2.840000     0.000000     0.000000  \n",
       "50%       3.410000     0.000000     1.000000  \n",
       "75%       3.800000     1.000000     1.000000  \n",
       "max       5.140000     1.000000     1.000000  "
      ]
     },
     "execution_count": 4,
     "metadata": {},
     "output_type": "execute_result"
    }
   ],
   "source": [
    "student_data.describe()"
   ]
  },
  {
   "cell_type": "code",
   "execution_count": 5,
   "id": "fb25464a-0988-4ebe-8a4b-8d86d4a8a534",
   "metadata": {},
   "outputs": [
    {
     "name": "stdout",
     "output_type": "stream",
     "text": [
      "      ID_NUM  Gender  Resident  ACT_SCORE  ACT_RECEIVED  HS_GPA  Athlete  \\\n",
      "0          1       1         1       22.0             1    3.21        0   \n",
      "1          2       1         1       22.0             1    3.66        1   \n",
      "2          3       0         1        NaN             0    2.88        0   \n",
      "3          4       1         1       30.0             1    3.73        1   \n",
      "4          5       1         1        NaN             0    3.92        1   \n",
      "...      ...     ...       ...        ...           ...     ...      ...   \n",
      "5058    5059       0         1        NaN             0     NaN        0   \n",
      "5059    5060       1         0        NaN             0     NaN        0   \n",
      "5060    5061       1         0       17.0             1     NaN        0   \n",
      "5061    5062       0         1       18.0             1     NaN        1   \n",
      "5062    5063       1         0        NaN             0     NaN        0   \n",
      "\n",
      "      Retained  \n",
      "0            0  \n",
      "1            1  \n",
      "2            1  \n",
      "3            1  \n",
      "4            1  \n",
      "...        ...  \n",
      "5058         0  \n",
      "5059         1  \n",
      "5060         1  \n",
      "5061         1  \n",
      "5062         0  \n",
      "\n",
      "[5063 rows x 8 columns]\n"
     ]
    }
   ],
   "source": [
    "# remove duplicates\n",
    "\n",
    "student_data.drop_duplicates(inplace = True)\n",
    "\n",
    "print(student_data)"
   ]
  },
  {
   "cell_type": "code",
   "execution_count": 6,
   "id": "f717a1a0-de71-4f67-b47b-2ab09aa10e9c",
   "metadata": {},
   "outputs": [
    {
     "data": {
      "text/html": [
       "<div>\n",
       "<style scoped>\n",
       "    .dataframe tbody tr th:only-of-type {\n",
       "        vertical-align: middle;\n",
       "    }\n",
       "\n",
       "    .dataframe tbody tr th {\n",
       "        vertical-align: top;\n",
       "    }\n",
       "\n",
       "    .dataframe thead th {\n",
       "        text-align: right;\n",
       "    }\n",
       "</style>\n",
       "<table border=\"1\" class=\"dataframe\">\n",
       "  <thead>\n",
       "    <tr style=\"text-align: right;\">\n",
       "      <th></th>\n",
       "      <th>ID_NUM</th>\n",
       "      <th>Gender</th>\n",
       "      <th>Resident</th>\n",
       "      <th>ACT_SCORE</th>\n",
       "      <th>ACT_RECEIVED</th>\n",
       "      <th>HS_GPA</th>\n",
       "      <th>Athlete</th>\n",
       "      <th>Retained</th>\n",
       "    </tr>\n",
       "  </thead>\n",
       "  <tbody>\n",
       "    <tr>\n",
       "      <th>0</th>\n",
       "      <td>False</td>\n",
       "      <td>False</td>\n",
       "      <td>False</td>\n",
       "      <td>False</td>\n",
       "      <td>False</td>\n",
       "      <td>False</td>\n",
       "      <td>False</td>\n",
       "      <td>False</td>\n",
       "    </tr>\n",
       "    <tr>\n",
       "      <th>1</th>\n",
       "      <td>False</td>\n",
       "      <td>False</td>\n",
       "      <td>False</td>\n",
       "      <td>False</td>\n",
       "      <td>False</td>\n",
       "      <td>False</td>\n",
       "      <td>False</td>\n",
       "      <td>False</td>\n",
       "    </tr>\n",
       "    <tr>\n",
       "      <th>2</th>\n",
       "      <td>False</td>\n",
       "      <td>False</td>\n",
       "      <td>False</td>\n",
       "      <td>True</td>\n",
       "      <td>False</td>\n",
       "      <td>False</td>\n",
       "      <td>False</td>\n",
       "      <td>False</td>\n",
       "    </tr>\n",
       "    <tr>\n",
       "      <th>3</th>\n",
       "      <td>False</td>\n",
       "      <td>False</td>\n",
       "      <td>False</td>\n",
       "      <td>False</td>\n",
       "      <td>False</td>\n",
       "      <td>False</td>\n",
       "      <td>False</td>\n",
       "      <td>False</td>\n",
       "    </tr>\n",
       "    <tr>\n",
       "      <th>4</th>\n",
       "      <td>False</td>\n",
       "      <td>False</td>\n",
       "      <td>False</td>\n",
       "      <td>True</td>\n",
       "      <td>False</td>\n",
       "      <td>False</td>\n",
       "      <td>False</td>\n",
       "      <td>False</td>\n",
       "    </tr>\n",
       "    <tr>\n",
       "      <th>...</th>\n",
       "      <td>...</td>\n",
       "      <td>...</td>\n",
       "      <td>...</td>\n",
       "      <td>...</td>\n",
       "      <td>...</td>\n",
       "      <td>...</td>\n",
       "      <td>...</td>\n",
       "      <td>...</td>\n",
       "    </tr>\n",
       "    <tr>\n",
       "      <th>5058</th>\n",
       "      <td>False</td>\n",
       "      <td>False</td>\n",
       "      <td>False</td>\n",
       "      <td>True</td>\n",
       "      <td>False</td>\n",
       "      <td>True</td>\n",
       "      <td>False</td>\n",
       "      <td>False</td>\n",
       "    </tr>\n",
       "    <tr>\n",
       "      <th>5059</th>\n",
       "      <td>False</td>\n",
       "      <td>False</td>\n",
       "      <td>False</td>\n",
       "      <td>True</td>\n",
       "      <td>False</td>\n",
       "      <td>True</td>\n",
       "      <td>False</td>\n",
       "      <td>False</td>\n",
       "    </tr>\n",
       "    <tr>\n",
       "      <th>5060</th>\n",
       "      <td>False</td>\n",
       "      <td>False</td>\n",
       "      <td>False</td>\n",
       "      <td>False</td>\n",
       "      <td>False</td>\n",
       "      <td>True</td>\n",
       "      <td>False</td>\n",
       "      <td>False</td>\n",
       "    </tr>\n",
       "    <tr>\n",
       "      <th>5061</th>\n",
       "      <td>False</td>\n",
       "      <td>False</td>\n",
       "      <td>False</td>\n",
       "      <td>False</td>\n",
       "      <td>False</td>\n",
       "      <td>True</td>\n",
       "      <td>False</td>\n",
       "      <td>False</td>\n",
       "    </tr>\n",
       "    <tr>\n",
       "      <th>5062</th>\n",
       "      <td>False</td>\n",
       "      <td>False</td>\n",
       "      <td>False</td>\n",
       "      <td>True</td>\n",
       "      <td>False</td>\n",
       "      <td>True</td>\n",
       "      <td>False</td>\n",
       "      <td>False</td>\n",
       "    </tr>\n",
       "  </tbody>\n",
       "</table>\n",
       "<p>5063 rows × 8 columns</p>\n",
       "</div>"
      ],
      "text/plain": [
       "      ID_NUM  Gender  Resident  ACT_SCORE  ACT_RECEIVED  HS_GPA  Athlete  \\\n",
       "0      False   False     False      False         False   False    False   \n",
       "1      False   False     False      False         False   False    False   \n",
       "2      False   False     False       True         False   False    False   \n",
       "3      False   False     False      False         False   False    False   \n",
       "4      False   False     False       True         False   False    False   \n",
       "...      ...     ...       ...        ...           ...     ...      ...   \n",
       "5058   False   False     False       True         False    True    False   \n",
       "5059   False   False     False       True         False    True    False   \n",
       "5060   False   False     False      False         False    True    False   \n",
       "5061   False   False     False      False         False    True    False   \n",
       "5062   False   False     False       True         False    True    False   \n",
       "\n",
       "      Retained  \n",
       "0        False  \n",
       "1        False  \n",
       "2        False  \n",
       "3        False  \n",
       "4        False  \n",
       "...        ...  \n",
       "5058     False  \n",
       "5059     False  \n",
       "5060     False  \n",
       "5061     False  \n",
       "5062     False  \n",
       "\n",
       "[5063 rows x 8 columns]"
      ]
     },
     "execution_count": 6,
     "metadata": {},
     "output_type": "execute_result"
    }
   ],
   "source": [
    "#check for null values and the percent that are null in each column\n",
    "\n",
    "student_data.isnull()"
   ]
  },
  {
   "cell_type": "code",
   "execution_count": 7,
   "id": "2e2cd24d-438c-4b47-b576-fa367949d826",
   "metadata": {},
   "outputs": [
    {
     "data": {
      "text/plain": [
       "ID_NUM          False\n",
       "Gender          False\n",
       "Resident        False\n",
       "ACT_SCORE        True\n",
       "ACT_RECEIVED    False\n",
       "HS_GPA           True\n",
       "Athlete         False\n",
       "Retained        False\n",
       "dtype: bool"
      ]
     },
     "execution_count": 7,
     "metadata": {},
     "output_type": "execute_result"
    }
   ],
   "source": [
    "student_data.isnull().any()"
   ]
  },
  {
   "cell_type": "code",
   "execution_count": 8,
   "id": "e549a6c0-2ca9-4b76-af91-fb8f9f124386",
   "metadata": {},
   "outputs": [
    {
     "data": {
      "text/plain": [
       "ID_NUM          0.000000\n",
       "Gender          0.000000\n",
       "Resident        0.000000\n",
       "ACT_SCORE       0.172625\n",
       "ACT_RECEIVED    0.000000\n",
       "HS_GPA          0.210547\n",
       "Athlete         0.000000\n",
       "Retained        0.000000\n",
       "dtype: float64"
      ]
     },
     "execution_count": 8,
     "metadata": {},
     "output_type": "execute_result"
    }
   ],
   "source": [
    "student_data.isnull().sum()/student_data.shape[0]"
   ]
  },
  {
   "cell_type": "code",
   "execution_count": 9,
   "id": "2bc3204f-242b-4272-9872-86ca8eca8e2b",
   "metadata": {},
   "outputs": [
    {
     "name": "stdout",
     "output_type": "stream",
     "text": [
      "ACT Score Average is: 23.889472427787062\n",
      "High School GPA Average is: 2.978555666750063\n"
     ]
    }
   ],
   "source": [
    "#See what the average is for ACT Scores and High school GPAs that will be used to replace the Null values\n",
    "print (\"ACT Score Average is:\", student_data.ACT_SCORE.mean())\n",
    "print (\"High School GPA Average is:\", student_data.HS_GPA.mean())\n"
   ]
  },
  {
   "cell_type": "code",
   "execution_count": 10,
   "id": "2b8ef52c-da51-43b5-abe7-76c171ae9d77",
   "metadata": {},
   "outputs": [],
   "source": [
    "#Find any null values in the ACT Score column and the HS GPA Column and replace with the average\n",
    "\n",
    "student_data.ACT_SCORE.fillna(student_data.ACT_SCORE.mean(),inplace = True)\n",
    "student_data.HS_GPA.fillna(student_data.HS_GPA.mean(),inplace = True)"
   ]
  },
  {
   "cell_type": "code",
   "execution_count": 11,
   "id": "45ef3427-837c-40f6-8cb0-570d47aa6f66",
   "metadata": {},
   "outputs": [
    {
     "name": "stdout",
     "output_type": "stream",
     "text": [
      "      ID_NUM  Gender  Resident  ACT_SCORE  ACT_RECEIVED    HS_GPA  Athlete  \\\n",
      "0          1       1         1  22.000000             1  3.210000        0   \n",
      "1          2       1         1  22.000000             1  3.660000        1   \n",
      "2          3       0         1  23.889472             0  2.880000        0   \n",
      "3          4       1         1  30.000000             1  3.730000        1   \n",
      "4          5       1         1  23.889472             0  3.920000        1   \n",
      "...      ...     ...       ...        ...           ...       ...      ...   \n",
      "5058    5059       0         1  23.889472             0  2.978556        0   \n",
      "5059    5060       1         0  23.889472             0  2.978556        0   \n",
      "5060    5061       1         0  17.000000             1  2.978556        0   \n",
      "5061    5062       0         1  18.000000             1  2.978556        1   \n",
      "5062    5063       1         0  23.889472             0  2.978556        0   \n",
      "\n",
      "      Retained  \n",
      "0            0  \n",
      "1            1  \n",
      "2            1  \n",
      "3            1  \n",
      "4            1  \n",
      "...        ...  \n",
      "5058         0  \n",
      "5059         1  \n",
      "5060         1  \n",
      "5061         1  \n",
      "5062         0  \n",
      "\n",
      "[5063 rows x 8 columns]\n"
     ]
    }
   ],
   "source": [
    "#New data frame with the null values filled in by average for ACT and HS GPA\n",
    "print(student_data)"
   ]
  },
  {
   "cell_type": "code",
   "execution_count": 12,
   "id": "3656de49-5816-4c2f-aa21-5bc00415a748",
   "metadata": {},
   "outputs": [],
   "source": [
    "#After initial inspection of box plots, can see values of 0 that may have been mis entered. Treating them like nulls and replacing 0 values with the average of the column\n",
    "\n",
    "mean = student_data['HS_GPA'].mean()\n",
    "student_data.loc[student_data['HS_GPA'] == 0, 'HS_GPA'] = mean"
   ]
  },
  {
   "cell_type": "code",
   "execution_count": 13,
   "id": "79892287-7485-4b84-893d-087c7f8ca380",
   "metadata": {},
   "outputs": [
    {
     "data": {
      "text/plain": [
       "0    22.000000\n",
       "1    22.000000\n",
       "2    23.889472\n",
       "3    30.000000\n",
       "4    23.889472\n",
       "Name: ACT_SCORE, dtype: float64"
      ]
     },
     "execution_count": 13,
     "metadata": {},
     "output_type": "execute_result"
    }
   ],
   "source": [
    "student_data.ACT_SCORE.head()"
   ]
  },
  {
   "cell_type": "code",
   "execution_count": 14,
   "id": "27b760a4-889c-49b7-b799-4c7203bed729",
   "metadata": {},
   "outputs": [
    {
     "data": {
      "text/plain": [
       "0    3.21\n",
       "1    3.66\n",
       "2    2.88\n",
       "3    3.73\n",
       "4    3.92\n",
       "Name: HS_GPA, dtype: float64"
      ]
     },
     "execution_count": 14,
     "metadata": {},
     "output_type": "execute_result"
    }
   ],
   "source": [
    "student_data.HS_GPA.head()"
   ]
  },
  {
   "cell_type": "code",
   "execution_count": 15,
   "id": "f8f684d2-f7fe-4427-a9b6-26ddcc6f52da",
   "metadata": {},
   "outputs": [
    {
     "data": {
      "text/plain": [
       "0    1\n",
       "1    1\n",
       "2    1\n",
       "3    1\n",
       "4    1\n",
       "Name: Resident, dtype: int64"
      ]
     },
     "execution_count": 15,
     "metadata": {},
     "output_type": "execute_result"
    }
   ],
   "source": [
    "student_data.Resident.head()"
   ]
  }
 ],
 "metadata": {
  "kernelspec": {
   "display_name": "Python 3 (ipykernel)",
   "language": "python",
   "name": "python3"
  },
  "language_info": {
   "codemirror_mode": {
    "name": "ipython",
    "version": 3
   },
   "file_extension": ".py",
   "mimetype": "text/x-python",
   "name": "python",
   "nbconvert_exporter": "python",
   "pygments_lexer": "ipython3",
   "version": "3.10.9"
  }
 },
 "nbformat": 4,
 "nbformat_minor": 5
}
